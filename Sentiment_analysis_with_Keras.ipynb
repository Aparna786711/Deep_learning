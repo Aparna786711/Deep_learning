{
  "nbformat": 4,
  "nbformat_minor": 0,
  "metadata": {
    "colab": {
      "provenance": [],
      "gpuType": "T4",
      "authorship_tag": "ABX9TyM6cXp8GPagaCjBo61RQUsc",
      "include_colab_link": true
    },
    "kernelspec": {
      "name": "python3",
      "display_name": "Python 3"
    },
    "language_info": {
      "name": "python"
    },
    "accelerator": "GPU"
  },
  "cells": [
    {
      "cell_type": "markdown",
      "metadata": {
        "id": "view-in-github",
        "colab_type": "text"
      },
      "source": [
        "<a href=\"https://colab.research.google.com/github/Aparna786711/Deep_learning/blob/main/Sentiment_analysis_with_Keras.ipynb\" target=\"_parent\"><img src=\"https://colab.research.google.com/assets/colab-badge.svg\" alt=\"Open In Colab\"/></a>"
      ]
    },
    {
      "cell_type": "markdown",
      "source": [
        "# Sentiment analysis with Keras\n",
        "\n",
        "0 - Negative\n",
        "\n",
        "1 - postitive\n",
        "\n",
        "\n",
        "\n"
      ],
      "metadata": {
        "id": "hyoxBGFBUao3"
      }
    },
    {
      "cell_type": "markdown",
      "source": [
        "# Step 1 - Data Ingestion\n"
      ],
      "metadata": {
        "id": "fa2nU1Y-Up-t"
      }
    },
    {
      "cell_type": "code",
      "execution_count": 1,
      "metadata": {
        "colab": {
          "base_uri": "https://localhost:8080/"
        },
        "id": "9hH5VoyKUNmM",
        "outputId": "50041900-03ec-496f-8274-8eb214785aa8"
      },
      "outputs": [
        {
          "output_type": "stream",
          "name": "stdout",
          "text": [
            "https://raw.githubusercontent.com/utkarshg1/Neural-Net-Datasets/refs/heads/main/Restaurant_Reviews.tsv\n"
          ]
        }
      ],
      "source": [
        "url1 = \"https://raw.githubusercontent.com/utkarshg1/Neural-Net-Datasets/refs/heads/main/Restaurant_Reviews.tsv\"\n",
        "print(url1)\n"
      ]
    },
    {
      "cell_type": "code",
      "source": [
        "print(\"a\\tb\")\n"
      ],
      "metadata": {
        "colab": {
          "base_uri": "https://localhost:8080/"
        },
        "id": "C1sAbGfWUvZ2",
        "outputId": "35a7c24a-c3ba-4bab-ddc6-d92f47f05f44"
      },
      "execution_count": 2,
      "outputs": [
        {
          "output_type": "stream",
          "name": "stdout",
          "text": [
            "a\tb\n"
          ]
        }
      ]
    },
    {
      "cell_type": "code",
      "source": [
        "import pandas as pd\n",
        "\n",
        "df = pd.read_csv(url1, sep=\"\\t\")\n",
        "df.head()\n"
      ],
      "metadata": {
        "colab": {
          "base_uri": "https://localhost:8080/",
          "height": 206
        },
        "id": "2zoBTOK6U8mO",
        "outputId": "3f8900fe-37a3-4f6b-88ee-733e5e68ebf2"
      },
      "execution_count": 3,
      "outputs": [
        {
          "output_type": "execute_result",
          "data": {
            "text/plain": [
              "                                              Review  Liked\n",
              "0                           Wow... Loved this place.      1\n",
              "1                                 Crust is not good.      0\n",
              "2          Not tasty and the texture was just nasty.      0\n",
              "3  Stopped by during the late May bank holiday of...      1\n",
              "4  The selection on the menu was great and so wer...      1"
            ],
            "text/html": [
              "\n",
              "  <div id=\"df-aabb0331-b483-41a7-828d-151b70f67e6a\" class=\"colab-df-container\">\n",
              "    <div>\n",
              "<style scoped>\n",
              "    .dataframe tbody tr th:only-of-type {\n",
              "        vertical-align: middle;\n",
              "    }\n",
              "\n",
              "    .dataframe tbody tr th {\n",
              "        vertical-align: top;\n",
              "    }\n",
              "\n",
              "    .dataframe thead th {\n",
              "        text-align: right;\n",
              "    }\n",
              "</style>\n",
              "<table border=\"1\" class=\"dataframe\">\n",
              "  <thead>\n",
              "    <tr style=\"text-align: right;\">\n",
              "      <th></th>\n",
              "      <th>Review</th>\n",
              "      <th>Liked</th>\n",
              "    </tr>\n",
              "  </thead>\n",
              "  <tbody>\n",
              "    <tr>\n",
              "      <th>0</th>\n",
              "      <td>Wow... Loved this place.</td>\n",
              "      <td>1</td>\n",
              "    </tr>\n",
              "    <tr>\n",
              "      <th>1</th>\n",
              "      <td>Crust is not good.</td>\n",
              "      <td>0</td>\n",
              "    </tr>\n",
              "    <tr>\n",
              "      <th>2</th>\n",
              "      <td>Not tasty and the texture was just nasty.</td>\n",
              "      <td>0</td>\n",
              "    </tr>\n",
              "    <tr>\n",
              "      <th>3</th>\n",
              "      <td>Stopped by during the late May bank holiday of...</td>\n",
              "      <td>1</td>\n",
              "    </tr>\n",
              "    <tr>\n",
              "      <th>4</th>\n",
              "      <td>The selection on the menu was great and so wer...</td>\n",
              "      <td>1</td>\n",
              "    </tr>\n",
              "  </tbody>\n",
              "</table>\n",
              "</div>\n",
              "    <div class=\"colab-df-buttons\">\n",
              "\n",
              "  <div class=\"colab-df-container\">\n",
              "    <button class=\"colab-df-convert\" onclick=\"convertToInteractive('df-aabb0331-b483-41a7-828d-151b70f67e6a')\"\n",
              "            title=\"Convert this dataframe to an interactive table.\"\n",
              "            style=\"display:none;\">\n",
              "\n",
              "  <svg xmlns=\"http://www.w3.org/2000/svg\" height=\"24px\" viewBox=\"0 -960 960 960\">\n",
              "    <path d=\"M120-120v-720h720v720H120Zm60-500h600v-160H180v160Zm220 220h160v-160H400v160Zm0 220h160v-160H400v160ZM180-400h160v-160H180v160Zm440 0h160v-160H620v160ZM180-180h160v-160H180v160Zm440 0h160v-160H620v160Z\"/>\n",
              "  </svg>\n",
              "    </button>\n",
              "\n",
              "  <style>\n",
              "    .colab-df-container {\n",
              "      display:flex;\n",
              "      gap: 12px;\n",
              "    }\n",
              "\n",
              "    .colab-df-convert {\n",
              "      background-color: #E8F0FE;\n",
              "      border: none;\n",
              "      border-radius: 50%;\n",
              "      cursor: pointer;\n",
              "      display: none;\n",
              "      fill: #1967D2;\n",
              "      height: 32px;\n",
              "      padding: 0 0 0 0;\n",
              "      width: 32px;\n",
              "    }\n",
              "\n",
              "    .colab-df-convert:hover {\n",
              "      background-color: #E2EBFA;\n",
              "      box-shadow: 0px 1px 2px rgba(60, 64, 67, 0.3), 0px 1px 3px 1px rgba(60, 64, 67, 0.15);\n",
              "      fill: #174EA6;\n",
              "    }\n",
              "\n",
              "    .colab-df-buttons div {\n",
              "      margin-bottom: 4px;\n",
              "    }\n",
              "\n",
              "    [theme=dark] .colab-df-convert {\n",
              "      background-color: #3B4455;\n",
              "      fill: #D2E3FC;\n",
              "    }\n",
              "\n",
              "    [theme=dark] .colab-df-convert:hover {\n",
              "      background-color: #434B5C;\n",
              "      box-shadow: 0px 1px 3px 1px rgba(0, 0, 0, 0.15);\n",
              "      filter: drop-shadow(0px 1px 2px rgba(0, 0, 0, 0.3));\n",
              "      fill: #FFFFFF;\n",
              "    }\n",
              "  </style>\n",
              "\n",
              "    <script>\n",
              "      const buttonEl =\n",
              "        document.querySelector('#df-aabb0331-b483-41a7-828d-151b70f67e6a button.colab-df-convert');\n",
              "      buttonEl.style.display =\n",
              "        google.colab.kernel.accessAllowed ? 'block' : 'none';\n",
              "\n",
              "      async function convertToInteractive(key) {\n",
              "        const element = document.querySelector('#df-aabb0331-b483-41a7-828d-151b70f67e6a');\n",
              "        const dataTable =\n",
              "          await google.colab.kernel.invokeFunction('convertToInteractive',\n",
              "                                                    [key], {});\n",
              "        if (!dataTable) return;\n",
              "\n",
              "        const docLinkHtml = 'Like what you see? Visit the ' +\n",
              "          '<a target=\"_blank\" href=https://colab.research.google.com/notebooks/data_table.ipynb>data table notebook</a>'\n",
              "          + ' to learn more about interactive tables.';\n",
              "        element.innerHTML = '';\n",
              "        dataTable['output_type'] = 'display_data';\n",
              "        await google.colab.output.renderOutput(dataTable, element);\n",
              "        const docLink = document.createElement('div');\n",
              "        docLink.innerHTML = docLinkHtml;\n",
              "        element.appendChild(docLink);\n",
              "      }\n",
              "    </script>\n",
              "  </div>\n",
              "\n",
              "\n",
              "    <div id=\"df-99af7852-9b98-4aa1-bcb5-d166f77fbd16\">\n",
              "      <button class=\"colab-df-quickchart\" onclick=\"quickchart('df-99af7852-9b98-4aa1-bcb5-d166f77fbd16')\"\n",
              "                title=\"Suggest charts\"\n",
              "                style=\"display:none;\">\n",
              "\n",
              "<svg xmlns=\"http://www.w3.org/2000/svg\" height=\"24px\"viewBox=\"0 0 24 24\"\n",
              "     width=\"24px\">\n",
              "    <g>\n",
              "        <path d=\"M19 3H5c-1.1 0-2 .9-2 2v14c0 1.1.9 2 2 2h14c1.1 0 2-.9 2-2V5c0-1.1-.9-2-2-2zM9 17H7v-7h2v7zm4 0h-2V7h2v10zm4 0h-2v-4h2v4z\"/>\n",
              "    </g>\n",
              "</svg>\n",
              "      </button>\n",
              "\n",
              "<style>\n",
              "  .colab-df-quickchart {\n",
              "      --bg-color: #E8F0FE;\n",
              "      --fill-color: #1967D2;\n",
              "      --hover-bg-color: #E2EBFA;\n",
              "      --hover-fill-color: #174EA6;\n",
              "      --disabled-fill-color: #AAA;\n",
              "      --disabled-bg-color: #DDD;\n",
              "  }\n",
              "\n",
              "  [theme=dark] .colab-df-quickchart {\n",
              "      --bg-color: #3B4455;\n",
              "      --fill-color: #D2E3FC;\n",
              "      --hover-bg-color: #434B5C;\n",
              "      --hover-fill-color: #FFFFFF;\n",
              "      --disabled-bg-color: #3B4455;\n",
              "      --disabled-fill-color: #666;\n",
              "  }\n",
              "\n",
              "  .colab-df-quickchart {\n",
              "    background-color: var(--bg-color);\n",
              "    border: none;\n",
              "    border-radius: 50%;\n",
              "    cursor: pointer;\n",
              "    display: none;\n",
              "    fill: var(--fill-color);\n",
              "    height: 32px;\n",
              "    padding: 0;\n",
              "    width: 32px;\n",
              "  }\n",
              "\n",
              "  .colab-df-quickchart:hover {\n",
              "    background-color: var(--hover-bg-color);\n",
              "    box-shadow: 0 1px 2px rgba(60, 64, 67, 0.3), 0 1px 3px 1px rgba(60, 64, 67, 0.15);\n",
              "    fill: var(--button-hover-fill-color);\n",
              "  }\n",
              "\n",
              "  .colab-df-quickchart-complete:disabled,\n",
              "  .colab-df-quickchart-complete:disabled:hover {\n",
              "    background-color: var(--disabled-bg-color);\n",
              "    fill: var(--disabled-fill-color);\n",
              "    box-shadow: none;\n",
              "  }\n",
              "\n",
              "  .colab-df-spinner {\n",
              "    border: 2px solid var(--fill-color);\n",
              "    border-color: transparent;\n",
              "    border-bottom-color: var(--fill-color);\n",
              "    animation:\n",
              "      spin 1s steps(1) infinite;\n",
              "  }\n",
              "\n",
              "  @keyframes spin {\n",
              "    0% {\n",
              "      border-color: transparent;\n",
              "      border-bottom-color: var(--fill-color);\n",
              "      border-left-color: var(--fill-color);\n",
              "    }\n",
              "    20% {\n",
              "      border-color: transparent;\n",
              "      border-left-color: var(--fill-color);\n",
              "      border-top-color: var(--fill-color);\n",
              "    }\n",
              "    30% {\n",
              "      border-color: transparent;\n",
              "      border-left-color: var(--fill-color);\n",
              "      border-top-color: var(--fill-color);\n",
              "      border-right-color: var(--fill-color);\n",
              "    }\n",
              "    40% {\n",
              "      border-color: transparent;\n",
              "      border-right-color: var(--fill-color);\n",
              "      border-top-color: var(--fill-color);\n",
              "    }\n",
              "    60% {\n",
              "      border-color: transparent;\n",
              "      border-right-color: var(--fill-color);\n",
              "    }\n",
              "    80% {\n",
              "      border-color: transparent;\n",
              "      border-right-color: var(--fill-color);\n",
              "      border-bottom-color: var(--fill-color);\n",
              "    }\n",
              "    90% {\n",
              "      border-color: transparent;\n",
              "      border-bottom-color: var(--fill-color);\n",
              "    }\n",
              "  }\n",
              "</style>\n",
              "\n",
              "      <script>\n",
              "        async function quickchart(key) {\n",
              "          const quickchartButtonEl =\n",
              "            document.querySelector('#' + key + ' button');\n",
              "          quickchartButtonEl.disabled = true;  // To prevent multiple clicks.\n",
              "          quickchartButtonEl.classList.add('colab-df-spinner');\n",
              "          try {\n",
              "            const charts = await google.colab.kernel.invokeFunction(\n",
              "                'suggestCharts', [key], {});\n",
              "          } catch (error) {\n",
              "            console.error('Error during call to suggestCharts:', error);\n",
              "          }\n",
              "          quickchartButtonEl.classList.remove('colab-df-spinner');\n",
              "          quickchartButtonEl.classList.add('colab-df-quickchart-complete');\n",
              "        }\n",
              "        (() => {\n",
              "          let quickchartButtonEl =\n",
              "            document.querySelector('#df-99af7852-9b98-4aa1-bcb5-d166f77fbd16 button');\n",
              "          quickchartButtonEl.style.display =\n",
              "            google.colab.kernel.accessAllowed ? 'block' : 'none';\n",
              "        })();\n",
              "      </script>\n",
              "    </div>\n",
              "\n",
              "    </div>\n",
              "  </div>\n"
            ],
            "application/vnd.google.colaboratory.intrinsic+json": {
              "type": "dataframe",
              "variable_name": "df",
              "summary": "{\n  \"name\": \"df\",\n  \"rows\": 1000,\n  \"fields\": [\n    {\n      \"column\": \"Review\",\n      \"properties\": {\n        \"dtype\": \"string\",\n        \"num_unique_values\": 996,\n        \"samples\": [\n          \"They were excellent.\",\n          \"Your servers suck, wait, correction, our server Heimer sucked.\",\n          \"Will be back again!\"\n        ],\n        \"semantic_type\": \"\",\n        \"description\": \"\"\n      }\n    },\n    {\n      \"column\": \"Liked\",\n      \"properties\": {\n        \"dtype\": \"number\",\n        \"std\": 0,\n        \"min\": 0,\n        \"max\": 1,\n        \"num_unique_values\": 2,\n        \"samples\": [\n          0,\n          1\n        ],\n        \"semantic_type\": \"\",\n        \"description\": \"\"\n      }\n    }\n  ]\n}"
            }
          },
          "metadata": {},
          "execution_count": 3
        }
      ]
    },
    {
      "cell_type": "markdown",
      "source": [
        "![image.png](data:image/png;base64,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)"
      ],
      "metadata": {
        "id": "EHaJPi5MVIbX"
      }
    },
    {
      "cell_type": "code",
      "source": [
        "a = \"Wow! This is AMAZING ...\"\n",
        "a.lower()\n"
      ],
      "metadata": {
        "colab": {
          "base_uri": "https://localhost:8080/",
          "height": 35
        },
        "id": "cNGFNO40VCQg",
        "outputId": "73835afd-0028-42f1-b2e0-ad4f28f5a2db"
      },
      "execution_count": 4,
      "outputs": [
        {
          "output_type": "execute_result",
          "data": {
            "text/plain": [
              "'wow! this is amazing ...'"
            ],
            "application/vnd.google.colaboratory.intrinsic+json": {
              "type": "string"
            }
          },
          "metadata": {},
          "execution_count": 4
        }
      ]
    },
    {
      "cell_type": "code",
      "source": [
        "import re\n",
        "re.sub(\"[^a-z 0-9]\", \"\",a.lower() )\n"
      ],
      "metadata": {
        "colab": {
          "base_uri": "https://localhost:8080/",
          "height": 35
        },
        "id": "yi545ekdVNOm",
        "outputId": "6433bc91-037e-4e8c-b9c7-c846b68ff622"
      },
      "execution_count": 5,
      "outputs": [
        {
          "output_type": "execute_result",
          "data": {
            "text/plain": [
              "'wow this is amazing '"
            ],
            "application/vnd.google.colaboratory.intrinsic+json": {
              "type": "string"
            }
          },
          "metadata": {},
          "execution_count": 5
        }
      ]
    },
    {
      "cell_type": "code",
      "source": [
        "import re\n",
        "\n",
        "def preprocess_text(text: str) -> str:\n",
        "  text = text.lower()\n",
        "  text = re.sub(\"[^a-z 0-9]\", \"\", text)\n",
        "  return text.strip()\n"
      ],
      "metadata": {
        "id": "ffpev9CTVQDt"
      },
      "execution_count": 6,
      "outputs": []
    },
    {
      "cell_type": "code",
      "source": [
        "preprocess_text(a)\n"
      ],
      "metadata": {
        "colab": {
          "base_uri": "https://localhost:8080/",
          "height": 35
        },
        "id": "5Lt4npJTVTgE",
        "outputId": "541f2ee4-b69e-410d-d7ce-e25054c62c7d"
      },
      "execution_count": 7,
      "outputs": [
        {
          "output_type": "execute_result",
          "data": {
            "text/plain": [
              "'wow this is amazing'"
            ],
            "application/vnd.google.colaboratory.intrinsic+json": {
              "type": "string"
            }
          },
          "metadata": {},
          "execution_count": 7
        }
      ]
    },
    {
      "cell_type": "markdown",
      "source": [
        "# Apply preprocessing on entire reviews\n"
      ],
      "metadata": {
        "id": "msfkKh3MVaSQ"
      }
    },
    {
      "cell_type": "code",
      "source": [
        "X = df[\"Review\"].apply(preprocess_text)\n",
        "X.head()\n"
      ],
      "metadata": {
        "colab": {
          "base_uri": "https://localhost:8080/",
          "height": 241
        },
        "id": "NGUD3zhQVXQV",
        "outputId": "57d6d585-c1fb-48d3-c18e-3060b092f18d"
      },
      "execution_count": 8,
      "outputs": [
        {
          "output_type": "execute_result",
          "data": {
            "text/plain": [
              "0                                 wow loved this place\n",
              "1                                    crust is not good\n",
              "2             not tasty and the texture was just nasty\n",
              "3    stopped by during the late may bank holiday of...\n",
              "4    the selection on the menu was great and so wer...\n",
              "Name: Review, dtype: object"
            ],
            "text/html": [
              "<div>\n",
              "<style scoped>\n",
              "    .dataframe tbody tr th:only-of-type {\n",
              "        vertical-align: middle;\n",
              "    }\n",
              "\n",
              "    .dataframe tbody tr th {\n",
              "        vertical-align: top;\n",
              "    }\n",
              "\n",
              "    .dataframe thead th {\n",
              "        text-align: right;\n",
              "    }\n",
              "</style>\n",
              "<table border=\"1\" class=\"dataframe\">\n",
              "  <thead>\n",
              "    <tr style=\"text-align: right;\">\n",
              "      <th></th>\n",
              "      <th>Review</th>\n",
              "    </tr>\n",
              "  </thead>\n",
              "  <tbody>\n",
              "    <tr>\n",
              "      <th>0</th>\n",
              "      <td>wow loved this place</td>\n",
              "    </tr>\n",
              "    <tr>\n",
              "      <th>1</th>\n",
              "      <td>crust is not good</td>\n",
              "    </tr>\n",
              "    <tr>\n",
              "      <th>2</th>\n",
              "      <td>not tasty and the texture was just nasty</td>\n",
              "    </tr>\n",
              "    <tr>\n",
              "      <th>3</th>\n",
              "      <td>stopped by during the late may bank holiday of...</td>\n",
              "    </tr>\n",
              "    <tr>\n",
              "      <th>4</th>\n",
              "      <td>the selection on the menu was great and so wer...</td>\n",
              "    </tr>\n",
              "  </tbody>\n",
              "</table>\n",
              "</div><br><label><b>dtype:</b> object</label>"
            ]
          },
          "metadata": {},
          "execution_count": 8
        }
      ]
    },
    {
      "cell_type": "markdown",
      "source": [
        "# Apply TFIDF Vectorizer\n"
      ],
      "metadata": {
        "id": "Kovgw85HVhX1"
      }
    },
    {
      "cell_type": "code",
      "source": [
        "from sklearn.feature_extraction.text import TfidfVectorizer\n",
        "\n",
        "tfidf = TfidfVectorizer()\n",
        "X_pre = tfidf.fit_transform(X).toarray()\n",
        "X_pre\n"
      ],
      "metadata": {
        "colab": {
          "base_uri": "https://localhost:8080/"
        },
        "id": "7OYHE_UJVd1G",
        "outputId": "ac638c84-7905-49f8-dd90-c34a0e05cfea"
      },
      "execution_count": 9,
      "outputs": [
        {
          "output_type": "execute_result",
          "data": {
            "text/plain": [
              "array([[0., 0., 0., ..., 0., 0., 0.],\n",
              "       [0., 0., 0., ..., 0., 0., 0.],\n",
              "       [0., 0., 0., ..., 0., 0., 0.],\n",
              "       ...,\n",
              "       [0., 0., 0., ..., 0., 0., 0.],\n",
              "       [0., 0., 0., ..., 0., 0., 0.],\n",
              "       [0., 0., 0., ..., 0., 0., 0.]])"
            ]
          },
          "metadata": {},
          "execution_count": 9
        }
      ]
    },
    {
      "cell_type": "code",
      "source": [
        "X_pre.shape\n"
      ],
      "metadata": {
        "colab": {
          "base_uri": "https://localhost:8080/"
        },
        "id": "LIMmIw7ZVk71",
        "outputId": "14f81064-6381-45e8-c363-d84001f2370c"
      },
      "execution_count": 10,
      "outputs": [
        {
          "output_type": "execute_result",
          "data": {
            "text/plain": [
              "(1000, 2067)"
            ]
          },
          "metadata": {},
          "execution_count": 10
        }
      ]
    },
    {
      "cell_type": "markdown",
      "source": [
        "# Dimensionality reduction with SVD\n"
      ],
      "metadata": {
        "id": "2i7HHdP-Vsx0"
      }
    },
    {
      "cell_type": "code",
      "source": [
        "from sklearn.decomposition import TruncatedSVD\n",
        "\n",
        "svd = TruncatedSVD(n_components=300)\n",
        "X_pre_red = svd.fit_transform(X_pre)\n",
        "X_pre_red\n"
      ],
      "metadata": {
        "colab": {
          "base_uri": "https://localhost:8080/"
        },
        "id": "lqpAOXGSVpzn",
        "outputId": "783ba610-b035-45ef-db80-b4fc7ac764dd"
      },
      "execution_count": 11,
      "outputs": [
        {
          "output_type": "execute_result",
          "data": {
            "text/plain": [
              "array([[ 0.11457856,  0.19021733,  0.29860514, ...,  0.00154375,\n",
              "        -0.03318026,  0.0103356 ],\n",
              "       [ 0.20041515,  0.06219205,  0.10386266, ..., -0.04632744,\n",
              "         0.0091005 , -0.07838783],\n",
              "       [ 0.248602  , -0.05947126, -0.09197253, ..., -0.04120047,\n",
              "         0.0083063 ,  0.00035917],\n",
              "       ...,\n",
              "       [ 0.25745938,  0.21354302, -0.25268859, ..., -0.01469787,\n",
              "         0.01128824,  0.00162871],\n",
              "       [ 0.21755074,  0.04422347, -0.07900022, ...,  0.0288264 ,\n",
              "        -0.02964418, -0.02057435],\n",
              "       [ 0.22278543,  0.02689928, -0.02221587, ..., -0.0467874 ,\n",
              "        -0.02388274,  0.01197091]])"
            ]
          },
          "metadata": {},
          "execution_count": 11
        }
      ]
    },
    {
      "cell_type": "code",
      "source": [
        "X_pre_red.shape\n"
      ],
      "metadata": {
        "id": "GxTTLoVJVyOe",
        "colab": {
          "base_uri": "https://localhost:8080/"
        },
        "outputId": "bd35fdac-c5a9-4c09-b834-7b5b7fd4f772"
      },
      "execution_count": 12,
      "outputs": [
        {
          "output_type": "execute_result",
          "data": {
            "text/plain": [
              "(1000, 300)"
            ]
          },
          "metadata": {},
          "execution_count": 12
        }
      ]
    },
    {
      "cell_type": "code",
      "source": [
        "Y = df[\"Liked\"]\n",
        "Y.head()\n"
      ],
      "metadata": {
        "colab": {
          "base_uri": "https://localhost:8080/",
          "height": 241
        },
        "id": "rp24ApuhXLWO",
        "outputId": "37f31481-6b60-4d9e-ccc7-dd6538be593b"
      },
      "execution_count": 13,
      "outputs": [
        {
          "output_type": "execute_result",
          "data": {
            "text/plain": [
              "0    1\n",
              "1    0\n",
              "2    0\n",
              "3    1\n",
              "4    1\n",
              "Name: Liked, dtype: int64"
            ],
            "text/html": [
              "<div>\n",
              "<style scoped>\n",
              "    .dataframe tbody tr th:only-of-type {\n",
              "        vertical-align: middle;\n",
              "    }\n",
              "\n",
              "    .dataframe tbody tr th {\n",
              "        vertical-align: top;\n",
              "    }\n",
              "\n",
              "    .dataframe thead th {\n",
              "        text-align: right;\n",
              "    }\n",
              "</style>\n",
              "<table border=\"1\" class=\"dataframe\">\n",
              "  <thead>\n",
              "    <tr style=\"text-align: right;\">\n",
              "      <th></th>\n",
              "      <th>Liked</th>\n",
              "    </tr>\n",
              "  </thead>\n",
              "  <tbody>\n",
              "    <tr>\n",
              "      <th>0</th>\n",
              "      <td>1</td>\n",
              "    </tr>\n",
              "    <tr>\n",
              "      <th>1</th>\n",
              "      <td>0</td>\n",
              "    </tr>\n",
              "    <tr>\n",
              "      <th>2</th>\n",
              "      <td>0</td>\n",
              "    </tr>\n",
              "    <tr>\n",
              "      <th>3</th>\n",
              "      <td>1</td>\n",
              "    </tr>\n",
              "    <tr>\n",
              "      <th>4</th>\n",
              "      <td>1</td>\n",
              "    </tr>\n",
              "  </tbody>\n",
              "</table>\n",
              "</div><br><label><b>dtype:</b> int64</label>"
            ]
          },
          "metadata": {},
          "execution_count": 13
        }
      ]
    },
    {
      "cell_type": "code",
      "source": [
        "Y.value_counts()\n"
      ],
      "metadata": {
        "colab": {
          "base_uri": "https://localhost:8080/",
          "height": 178
        },
        "id": "rtcw_1zIXPf0",
        "outputId": "46f76444-cc15-4e03-989d-ae67e581dadb"
      },
      "execution_count": 14,
      "outputs": [
        {
          "output_type": "execute_result",
          "data": {
            "text/plain": [
              "Liked\n",
              "1    500\n",
              "0    500\n",
              "Name: count, dtype: int64"
            ],
            "text/html": [
              "<div>\n",
              "<style scoped>\n",
              "    .dataframe tbody tr th:only-of-type {\n",
              "        vertical-align: middle;\n",
              "    }\n",
              "\n",
              "    .dataframe tbody tr th {\n",
              "        vertical-align: top;\n",
              "    }\n",
              "\n",
              "    .dataframe thead th {\n",
              "        text-align: right;\n",
              "    }\n",
              "</style>\n",
              "<table border=\"1\" class=\"dataframe\">\n",
              "  <thead>\n",
              "    <tr style=\"text-align: right;\">\n",
              "      <th></th>\n",
              "      <th>count</th>\n",
              "    </tr>\n",
              "    <tr>\n",
              "      <th>Liked</th>\n",
              "      <th></th>\n",
              "    </tr>\n",
              "  </thead>\n",
              "  <tbody>\n",
              "    <tr>\n",
              "      <th>1</th>\n",
              "      <td>500</td>\n",
              "    </tr>\n",
              "    <tr>\n",
              "      <th>0</th>\n",
              "      <td>500</td>\n",
              "    </tr>\n",
              "  </tbody>\n",
              "</table>\n",
              "</div><br><label><b>dtype:</b> int64</label>"
            ]
          },
          "metadata": {},
          "execution_count": 14
        }
      ]
    },
    {
      "cell_type": "markdown",
      "source": [
        "# Train test split\n"
      ],
      "metadata": {
        "id": "Espbzj2RXZFS"
      }
    },
    {
      "cell_type": "code",
      "source": [
        "from sklearn.model_selection import train_test_split\n",
        "\n",
        "xtrain, xtest, ytrain, ytest = train_test_split(\n",
        "    X_pre_red, Y, test_size=0.2, random_state=42\n",
        ")\n"
      ],
      "metadata": {
        "id": "-NTbPeJOXTBp"
      },
      "execution_count": 15,
      "outputs": []
    },
    {
      "cell_type": "code",
      "source": [
        "xtrain\n"
      ],
      "metadata": {
        "colab": {
          "base_uri": "https://localhost:8080/"
        },
        "id": "q1mjFCURXd2q",
        "outputId": "30587df2-1310-4620-ae81-966a3b977230"
      },
      "execution_count": 16,
      "outputs": [
        {
          "output_type": "execute_result",
          "data": {
            "text/plain": [
              "array([[ 0.22714971, -0.1355275 , -0.05020054, ...,  0.08121893,\n",
              "        -0.03459652,  0.01863612],\n",
              "       [ 0.04699212,  0.0134224 ,  0.03451729, ..., -0.06128287,\n",
              "        -0.04446584, -0.02670387],\n",
              "       [ 0.19705026, -0.13148615, -0.08873096, ..., -0.01290589,\n",
              "         0.00832071, -0.01699185],\n",
              "       ...,\n",
              "       [ 0.28454308,  0.11308598,  0.31554383, ..., -0.03603861,\n",
              "         0.00063147, -0.00182862],\n",
              "       [ 0.16594076, -0.07105197, -0.05824827, ..., -0.01020268,\n",
              "        -0.03739244,  0.00241143],\n",
              "       [ 0.17456908,  0.04421883,  0.01479548, ..., -0.05297936,\n",
              "         0.00999489, -0.01079658]])"
            ]
          },
          "metadata": {},
          "execution_count": 16
        }
      ]
    },
    {
      "cell_type": "code",
      "source": [
        "ytrain.head()\n"
      ],
      "metadata": {
        "colab": {
          "base_uri": "https://localhost:8080/",
          "height": 241
        },
        "id": "YYROLPJAXg5A",
        "outputId": "882bab1d-4561-4481-91f9-20cfc684abbb"
      },
      "execution_count": 17,
      "outputs": [
        {
          "output_type": "execute_result",
          "data": {
            "text/plain": [
              "29     0\n",
              "535    1\n",
              "695    0\n",
              "557    0\n",
              "836    1\n",
              "Name: Liked, dtype: int64"
            ],
            "text/html": [
              "<div>\n",
              "<style scoped>\n",
              "    .dataframe tbody tr th:only-of-type {\n",
              "        vertical-align: middle;\n",
              "    }\n",
              "\n",
              "    .dataframe tbody tr th {\n",
              "        vertical-align: top;\n",
              "    }\n",
              "\n",
              "    .dataframe thead th {\n",
              "        text-align: right;\n",
              "    }\n",
              "</style>\n",
              "<table border=\"1\" class=\"dataframe\">\n",
              "  <thead>\n",
              "    <tr style=\"text-align: right;\">\n",
              "      <th></th>\n",
              "      <th>Liked</th>\n",
              "    </tr>\n",
              "  </thead>\n",
              "  <tbody>\n",
              "    <tr>\n",
              "      <th>29</th>\n",
              "      <td>0</td>\n",
              "    </tr>\n",
              "    <tr>\n",
              "      <th>535</th>\n",
              "      <td>1</td>\n",
              "    </tr>\n",
              "    <tr>\n",
              "      <th>695</th>\n",
              "      <td>0</td>\n",
              "    </tr>\n",
              "    <tr>\n",
              "      <th>557</th>\n",
              "      <td>0</td>\n",
              "    </tr>\n",
              "    <tr>\n",
              "      <th>836</th>\n",
              "      <td>1</td>\n",
              "    </tr>\n",
              "  </tbody>\n",
              "</table>\n",
              "</div><br><label><b>dtype:</b> int64</label>"
            ]
          },
          "metadata": {},
          "execution_count": 17
        }
      ]
    },
    {
      "cell_type": "code",
      "source": [
        "xtest"
      ],
      "metadata": {
        "colab": {
          "base_uri": "https://localhost:8080/"
        },
        "id": "oSEzM9qTXmnQ",
        "outputId": "77b14b6a-d3c2-40aa-ef31-ba1d5fb2338c"
      },
      "execution_count": 18,
      "outputs": [
        {
          "output_type": "execute_result",
          "data": {
            "text/plain": [
              "array([[ 0.07691892,  0.13494159, -0.07038308, ..., -0.00434253,\n",
              "         0.01419345,  0.00247661],\n",
              "       [ 0.254266  , -0.07500539, -0.03373471, ...,  0.00454916,\n",
              "         0.00783554,  0.01098438],\n",
              "       [ 0.26574114,  0.01069196,  0.0962324 , ...,  0.00477967,\n",
              "        -0.03319682,  0.00314721],\n",
              "       ...,\n",
              "       [ 0.14916885,  0.16649991,  0.2207663 , ...,  0.0040219 ,\n",
              "        -0.00037876, -0.00376675],\n",
              "       [ 0.14640626,  0.21286945, -0.21691329, ...,  0.02261386,\n",
              "        -0.02120771,  0.00098011],\n",
              "       [ 0.32089175, -0.02481936,  0.01883727, ...,  0.02639099,\n",
              "        -0.00196296,  0.00411586]])"
            ]
          },
          "metadata": {},
          "execution_count": 18
        }
      ]
    },
    {
      "cell_type": "code",
      "source": [
        "ytest.head()\n"
      ],
      "metadata": {
        "colab": {
          "base_uri": "https://localhost:8080/",
          "height": 241
        },
        "id": "10ZWcO2VXqJq",
        "outputId": "75d0f4b7-b4af-46f2-89f6-dcfd2c43afd5"
      },
      "execution_count": 19,
      "outputs": [
        {
          "output_type": "execute_result",
          "data": {
            "text/plain": [
              "521    1\n",
              "737    1\n",
              "740    1\n",
              "660    1\n",
              "411    1\n",
              "Name: Liked, dtype: int64"
            ],
            "text/html": [
              "<div>\n",
              "<style scoped>\n",
              "    .dataframe tbody tr th:only-of-type {\n",
              "        vertical-align: middle;\n",
              "    }\n",
              "\n",
              "    .dataframe tbody tr th {\n",
              "        vertical-align: top;\n",
              "    }\n",
              "\n",
              "    .dataframe thead th {\n",
              "        text-align: right;\n",
              "    }\n",
              "</style>\n",
              "<table border=\"1\" class=\"dataframe\">\n",
              "  <thead>\n",
              "    <tr style=\"text-align: right;\">\n",
              "      <th></th>\n",
              "      <th>Liked</th>\n",
              "    </tr>\n",
              "  </thead>\n",
              "  <tbody>\n",
              "    <tr>\n",
              "      <th>521</th>\n",
              "      <td>1</td>\n",
              "    </tr>\n",
              "    <tr>\n",
              "      <th>737</th>\n",
              "      <td>1</td>\n",
              "    </tr>\n",
              "    <tr>\n",
              "      <th>740</th>\n",
              "      <td>1</td>\n",
              "    </tr>\n",
              "    <tr>\n",
              "      <th>660</th>\n",
              "      <td>1</td>\n",
              "    </tr>\n",
              "    <tr>\n",
              "      <th>411</th>\n",
              "      <td>1</td>\n",
              "    </tr>\n",
              "  </tbody>\n",
              "</table>\n",
              "</div><br><label><b>dtype:</b> int64</label>"
            ]
          },
          "metadata": {},
          "execution_count": 19
        }
      ]
    },
    {
      "cell_type": "code",
      "source": [
        "xtrain.shape\n"
      ],
      "metadata": {
        "colab": {
          "base_uri": "https://localhost:8080/"
        },
        "id": "xxej3HU9XtxY",
        "outputId": "a9a99db7-a650-4006-92bf-35e6ec1e00aa"
      },
      "execution_count": 20,
      "outputs": [
        {
          "output_type": "execute_result",
          "data": {
            "text/plain": [
              "(800, 300)"
            ]
          },
          "metadata": {},
          "execution_count": 20
        }
      ]
    },
    {
      "cell_type": "code",
      "source": [
        "xtrain.shape[1]\n"
      ],
      "metadata": {
        "colab": {
          "base_uri": "https://localhost:8080/"
        },
        "id": "dORBog-OXxPA",
        "outputId": "03d25e55-66f9-4d4c-97ac-c079281ed3f5"
      },
      "execution_count": 21,
      "outputs": [
        {
          "output_type": "execute_result",
          "data": {
            "text/plain": [
              "300"
            ]
          },
          "metadata": {},
          "execution_count": 21
        }
      ]
    },
    {
      "cell_type": "markdown",
      "source": [
        "# Start building neural network\n"
      ],
      "metadata": {
        "id": "mKRhGj6FX3JJ"
      }
    },
    {
      "cell_type": "code",
      "source": [
        "from tensorflow.keras.models import Sequential\n",
        "from tensorflow.keras.layers import Input, Dense, Dropout\n",
        "from tensorflow.keras.callbacks import EarlyStopping\n",
        "from tensorflow.keras.regularizers import l2\n"
      ],
      "metadata": {
        "id": "AY85oaPFXz4A"
      },
      "execution_count": 22,
      "outputs": []
    },
    {
      "cell_type": "code",
      "source": [
        "model = Sequential(\n",
        "    layers = [\n",
        "        Input(shape=(xtrain.shape[1],)),\n",
        "        Dense(128, activation=\"relu\", kernel_regularizer=l2(0.01)),\n",
        "        Dropout(0.5),\n",
        "        Dense(64, activation=\"relu\", kernel_regularizer=l2(0.01)),\n",
        "        Dropout(0.5),\n",
        "        Dense(1, activation=\"sigmoid\")\n",
        "    ]\n",
        ")\n"
      ],
      "metadata": {
        "id": "fdNYI5VnX8AS"
      },
      "execution_count": 23,
      "outputs": []
    },
    {
      "cell_type": "code",
      "source": [
        "model.summary()\n"
      ],
      "metadata": {
        "colab": {
          "base_uri": "https://localhost:8080/",
          "height": 306
        },
        "id": "zSYruffyYBHK",
        "outputId": "9b05a9bc-439b-41f3-d4cc-7dbe64d62d7b"
      },
      "execution_count": 24,
      "outputs": [
        {
          "output_type": "display_data",
          "data": {
            "text/plain": [
              "\u001b[1mModel: \"sequential\"\u001b[0m\n"
            ],
            "text/html": [
              "<pre style=\"white-space:pre;overflow-x:auto;line-height:normal;font-family:Menlo,'DejaVu Sans Mono',consolas,'Courier New',monospace\"><span style=\"font-weight: bold\">Model: \"sequential\"</span>\n",
              "</pre>\n"
            ]
          },
          "metadata": {}
        },
        {
          "output_type": "display_data",
          "data": {
            "text/plain": [
              "┏━━━━━━━━━━━━━━━━━━━━━━━━━━━━━━━━━┳━━━━━━━━━━━━━━━━━━━━━━━━┳━━━━━━━━━━━━━━━┓\n",
              "┃\u001b[1m \u001b[0m\u001b[1mLayer (type)                   \u001b[0m\u001b[1m \u001b[0m┃\u001b[1m \u001b[0m\u001b[1mOutput Shape          \u001b[0m\u001b[1m \u001b[0m┃\u001b[1m \u001b[0m\u001b[1m      Param #\u001b[0m\u001b[1m \u001b[0m┃\n",
              "┡━━━━━━━━━━━━━━━━━━━━━━━━━━━━━━━━━╇━━━━━━━━━━━━━━━━━━━━━━━━╇━━━━━━━━━━━━━━━┩\n",
              "│ dense (\u001b[38;5;33mDense\u001b[0m)                   │ (\u001b[38;5;45mNone\u001b[0m, \u001b[38;5;34m128\u001b[0m)            │        \u001b[38;5;34m38,528\u001b[0m │\n",
              "├─────────────────────────────────┼────────────────────────┼───────────────┤\n",
              "│ dropout (\u001b[38;5;33mDropout\u001b[0m)               │ (\u001b[38;5;45mNone\u001b[0m, \u001b[38;5;34m128\u001b[0m)            │             \u001b[38;5;34m0\u001b[0m │\n",
              "├─────────────────────────────────┼────────────────────────┼───────────────┤\n",
              "│ dense_1 (\u001b[38;5;33mDense\u001b[0m)                 │ (\u001b[38;5;45mNone\u001b[0m, \u001b[38;5;34m64\u001b[0m)             │         \u001b[38;5;34m8,256\u001b[0m │\n",
              "├─────────────────────────────────┼────────────────────────┼───────────────┤\n",
              "│ dropout_1 (\u001b[38;5;33mDropout\u001b[0m)             │ (\u001b[38;5;45mNone\u001b[0m, \u001b[38;5;34m64\u001b[0m)             │             \u001b[38;5;34m0\u001b[0m │\n",
              "├─────────────────────────────────┼────────────────────────┼───────────────┤\n",
              "│ dense_2 (\u001b[38;5;33mDense\u001b[0m)                 │ (\u001b[38;5;45mNone\u001b[0m, \u001b[38;5;34m1\u001b[0m)              │            \u001b[38;5;34m65\u001b[0m │\n",
              "└─────────────────────────────────┴────────────────────────┴───────────────┘\n"
            ],
            "text/html": [
              "<pre style=\"white-space:pre;overflow-x:auto;line-height:normal;font-family:Menlo,'DejaVu Sans Mono',consolas,'Courier New',monospace\">┏━━━━━━━━━━━━━━━━━━━━━━━━━━━━━━━━━┳━━━━━━━━━━━━━━━━━━━━━━━━┳━━━━━━━━━━━━━━━┓\n",
              "┃<span style=\"font-weight: bold\"> Layer (type)                    </span>┃<span style=\"font-weight: bold\"> Output Shape           </span>┃<span style=\"font-weight: bold\">       Param # </span>┃\n",
              "┡━━━━━━━━━━━━━━━━━━━━━━━━━━━━━━━━━╇━━━━━━━━━━━━━━━━━━━━━━━━╇━━━━━━━━━━━━━━━┩\n",
              "│ dense (<span style=\"color: #0087ff; text-decoration-color: #0087ff\">Dense</span>)                   │ (<span style=\"color: #00d7ff; text-decoration-color: #00d7ff\">None</span>, <span style=\"color: #00af00; text-decoration-color: #00af00\">128</span>)            │        <span style=\"color: #00af00; text-decoration-color: #00af00\">38,528</span> │\n",
              "├─────────────────────────────────┼────────────────────────┼───────────────┤\n",
              "│ dropout (<span style=\"color: #0087ff; text-decoration-color: #0087ff\">Dropout</span>)               │ (<span style=\"color: #00d7ff; text-decoration-color: #00d7ff\">None</span>, <span style=\"color: #00af00; text-decoration-color: #00af00\">128</span>)            │             <span style=\"color: #00af00; text-decoration-color: #00af00\">0</span> │\n",
              "├─────────────────────────────────┼────────────────────────┼───────────────┤\n",
              "│ dense_1 (<span style=\"color: #0087ff; text-decoration-color: #0087ff\">Dense</span>)                 │ (<span style=\"color: #00d7ff; text-decoration-color: #00d7ff\">None</span>, <span style=\"color: #00af00; text-decoration-color: #00af00\">64</span>)             │         <span style=\"color: #00af00; text-decoration-color: #00af00\">8,256</span> │\n",
              "├─────────────────────────────────┼────────────────────────┼───────────────┤\n",
              "│ dropout_1 (<span style=\"color: #0087ff; text-decoration-color: #0087ff\">Dropout</span>)             │ (<span style=\"color: #00d7ff; text-decoration-color: #00d7ff\">None</span>, <span style=\"color: #00af00; text-decoration-color: #00af00\">64</span>)             │             <span style=\"color: #00af00; text-decoration-color: #00af00\">0</span> │\n",
              "├─────────────────────────────────┼────────────────────────┼───────────────┤\n",
              "│ dense_2 (<span style=\"color: #0087ff; text-decoration-color: #0087ff\">Dense</span>)                 │ (<span style=\"color: #00d7ff; text-decoration-color: #00d7ff\">None</span>, <span style=\"color: #00af00; text-decoration-color: #00af00\">1</span>)              │            <span style=\"color: #00af00; text-decoration-color: #00af00\">65</span> │\n",
              "└─────────────────────────────────┴────────────────────────┴───────────────┘\n",
              "</pre>\n"
            ]
          },
          "metadata": {}
        },
        {
          "output_type": "display_data",
          "data": {
            "text/plain": [
              "\u001b[1m Total params: \u001b[0m\u001b[38;5;34m46,849\u001b[0m (183.00 KB)\n"
            ],
            "text/html": [
              "<pre style=\"white-space:pre;overflow-x:auto;line-height:normal;font-family:Menlo,'DejaVu Sans Mono',consolas,'Courier New',monospace\"><span style=\"font-weight: bold\"> Total params: </span><span style=\"color: #00af00; text-decoration-color: #00af00\">46,849</span> (183.00 KB)\n",
              "</pre>\n"
            ]
          },
          "metadata": {}
        },
        {
          "output_type": "display_data",
          "data": {
            "text/plain": [
              "\u001b[1m Trainable params: \u001b[0m\u001b[38;5;34m46,849\u001b[0m (183.00 KB)\n"
            ],
            "text/html": [
              "<pre style=\"white-space:pre;overflow-x:auto;line-height:normal;font-family:Menlo,'DejaVu Sans Mono',consolas,'Courier New',monospace\"><span style=\"font-weight: bold\"> Trainable params: </span><span style=\"color: #00af00; text-decoration-color: #00af00\">46,849</span> (183.00 KB)\n",
              "</pre>\n"
            ]
          },
          "metadata": {}
        },
        {
          "output_type": "display_data",
          "data": {
            "text/plain": [
              "\u001b[1m Non-trainable params: \u001b[0m\u001b[38;5;34m0\u001b[0m (0.00 B)\n"
            ],
            "text/html": [
              "<pre style=\"white-space:pre;overflow-x:auto;line-height:normal;font-family:Menlo,'DejaVu Sans Mono',consolas,'Courier New',monospace\"><span style=\"font-weight: bold\"> Non-trainable params: </span><span style=\"color: #00af00; text-decoration-color: #00af00\">0</span> (0.00 B)\n",
              "</pre>\n"
            ]
          },
          "metadata": {}
        }
      ]
    },
    {
      "cell_type": "code",
      "source": [
        "model.compile(loss=\"binary_crossentropy\", optimizer=\"adam\", metrics=[\"accuracy\"])\n"
      ],
      "metadata": {
        "id": "LPQFVMW_YD1r"
      },
      "execution_count": 25,
      "outputs": []
    },
    {
      "cell_type": "code",
      "source": [
        "es = EarlyStopping(patience=10, restore_best_weights=True)\n"
      ],
      "metadata": {
        "id": "jQTiJw26YHdu"
      },
      "execution_count": 26,
      "outputs": []
    },
    {
      "cell_type": "code",
      "source": [
        "hist = model.fit(xtrain, ytrain, validation_split=0.1, epochs=100, callbacks=[es])\n"
      ],
      "metadata": {
        "id": "qtcLEWJlYKFW",
        "colab": {
          "base_uri": "https://localhost:8080/"
        },
        "outputId": "ca946c0e-cbb0-4bd5-c642-1ff02572f714"
      },
      "execution_count": 27,
      "outputs": [
        {
          "output_type": "stream",
          "name": "stdout",
          "text": [
            "Epoch 1/100\n",
            "\u001b[1m23/23\u001b[0m \u001b[32m━━━━━━━━━━━━━━━━━━━━\u001b[0m\u001b[37m\u001b[0m \u001b[1m9s\u001b[0m 237ms/step - accuracy: 0.4970 - loss: 3.0530 - val_accuracy: 0.4375 - val_loss: 2.2828\n",
            "Epoch 2/100\n",
            "\u001b[1m23/23\u001b[0m \u001b[32m━━━━━━━━━━━━━━━━━━━━\u001b[0m\u001b[37m\u001b[0m \u001b[1m0s\u001b[0m 13ms/step - accuracy: 0.5412 - loss: 2.0839 - val_accuracy: 0.4500 - val_loss: 1.6003\n",
            "Epoch 3/100\n",
            "\u001b[1m23/23\u001b[0m \u001b[32m━━━━━━━━━━━━━━━━━━━━\u001b[0m\u001b[37m\u001b[0m \u001b[1m1s\u001b[0m 14ms/step - accuracy: 0.5740 - loss: 1.4805 - val_accuracy: 0.4875 - val_loss: 1.1970\n",
            "Epoch 4/100\n",
            "\u001b[1m23/23\u001b[0m \u001b[32m━━━━━━━━━━━━━━━━━━━━\u001b[0m\u001b[37m\u001b[0m \u001b[1m0s\u001b[0m 19ms/step - accuracy: 0.5990 - loss: 1.1262 - val_accuracy: 0.4375 - val_loss: 0.9711\n",
            "Epoch 5/100\n",
            "\u001b[1m23/23\u001b[0m \u001b[32m━━━━━━━━━━━━━━━━━━━━\u001b[0m\u001b[37m\u001b[0m \u001b[1m0s\u001b[0m 11ms/step - accuracy: 0.6247 - loss: 0.9255 - val_accuracy: 0.5250 - val_loss: 0.8448\n",
            "Epoch 6/100\n",
            "\u001b[1m23/23\u001b[0m \u001b[32m━━━━━━━━━━━━━━━━━━━━\u001b[0m\u001b[37m\u001b[0m \u001b[1m0s\u001b[0m 14ms/step - accuracy: 0.6488 - loss: 0.8119 - val_accuracy: 0.6500 - val_loss: 0.7745\n",
            "Epoch 7/100\n",
            "\u001b[1m23/23\u001b[0m \u001b[32m━━━━━━━━━━━━━━━━━━━━\u001b[0m\u001b[37m\u001b[0m \u001b[1m0s\u001b[0m 14ms/step - accuracy: 0.7429 - loss: 0.7513 - val_accuracy: 0.6875 - val_loss: 0.7364\n",
            "Epoch 8/100\n",
            "\u001b[1m23/23\u001b[0m \u001b[32m━━━━━━━━━━━━━━━━━━━━\u001b[0m\u001b[37m\u001b[0m \u001b[1m0s\u001b[0m 11ms/step - accuracy: 0.7789 - loss: 0.7112 - val_accuracy: 0.8000 - val_loss: 0.7104\n",
            "Epoch 9/100\n",
            "\u001b[1m23/23\u001b[0m \u001b[32m━━━━━━━━━━━━━━━━━━━━\u001b[0m\u001b[37m\u001b[0m \u001b[1m0s\u001b[0m 10ms/step - accuracy: 0.8461 - loss: 0.6772 - val_accuracy: 0.7625 - val_loss: 0.6947\n",
            "Epoch 10/100\n",
            "\u001b[1m23/23\u001b[0m \u001b[32m━━━━━━━━━━━━━━━━━━━━\u001b[0m\u001b[37m\u001b[0m \u001b[1m0s\u001b[0m 10ms/step - accuracy: 0.8395 - loss: 0.6480 - val_accuracy: 0.8500 - val_loss: 0.6712\n",
            "Epoch 11/100\n",
            "\u001b[1m23/23\u001b[0m \u001b[32m━━━━━━━━━━━━━━━━━━━━\u001b[0m\u001b[37m\u001b[0m \u001b[1m0s\u001b[0m 13ms/step - accuracy: 0.8511 - loss: 0.6193 - val_accuracy: 0.8250 - val_loss: 0.6622\n",
            "Epoch 12/100\n",
            "\u001b[1m23/23\u001b[0m \u001b[32m━━━━━━━━━━━━━━━━━━━━\u001b[0m\u001b[37m\u001b[0m \u001b[1m1s\u001b[0m 18ms/step - accuracy: 0.8515 - loss: 0.6049 - val_accuracy: 0.7750 - val_loss: 0.6576\n",
            "Epoch 13/100\n",
            "\u001b[1m23/23\u001b[0m \u001b[32m━━━━━━━━━━━━━━━━━━━━\u001b[0m\u001b[37m\u001b[0m \u001b[1m0s\u001b[0m 12ms/step - accuracy: 0.8757 - loss: 0.5698 - val_accuracy: 0.8625 - val_loss: 0.6276\n",
            "Epoch 14/100\n",
            "\u001b[1m23/23\u001b[0m \u001b[32m━━━━━━━━━━━━━━━━━━━━\u001b[0m\u001b[37m\u001b[0m \u001b[1m0s\u001b[0m 13ms/step - accuracy: 0.8862 - loss: 0.5535 - val_accuracy: 0.8625 - val_loss: 0.6246\n",
            "Epoch 15/100\n",
            "\u001b[1m23/23\u001b[0m \u001b[32m━━━━━━━━━━━━━━━━━━━━\u001b[0m\u001b[37m\u001b[0m \u001b[1m0s\u001b[0m 10ms/step - accuracy: 0.9067 - loss: 0.5467 - val_accuracy: 0.8375 - val_loss: 0.6157\n",
            "Epoch 16/100\n",
            "\u001b[1m23/23\u001b[0m \u001b[32m━━━━━━━━━━━━━━━━━━━━\u001b[0m\u001b[37m\u001b[0m \u001b[1m0s\u001b[0m 9ms/step - accuracy: 0.9003 - loss: 0.5253 - val_accuracy: 0.8375 - val_loss: 0.6041\n",
            "Epoch 17/100\n",
            "\u001b[1m23/23\u001b[0m \u001b[32m━━━━━━━━━━━━━━━━━━━━\u001b[0m\u001b[37m\u001b[0m \u001b[1m0s\u001b[0m 13ms/step - accuracy: 0.8885 - loss: 0.5306 - val_accuracy: 0.8375 - val_loss: 0.5936\n",
            "Epoch 18/100\n",
            "\u001b[1m23/23\u001b[0m \u001b[32m━━━━━━━━━━━━━━━━━━━━\u001b[0m\u001b[37m\u001b[0m \u001b[1m1s\u001b[0m 9ms/step - accuracy: 0.9249 - loss: 0.4957 - val_accuracy: 0.8625 - val_loss: 0.5856\n",
            "Epoch 19/100\n",
            "\u001b[1m23/23\u001b[0m \u001b[32m━━━━━━━━━━━━━━━━━━━━\u001b[0m\u001b[37m\u001b[0m \u001b[1m0s\u001b[0m 9ms/step - accuracy: 0.9103 - loss: 0.4999 - val_accuracy: 0.8375 - val_loss: 0.6058\n",
            "Epoch 20/100\n",
            "\u001b[1m23/23\u001b[0m \u001b[32m━━━━━━━━━━━━━━━━━━━━\u001b[0m\u001b[37m\u001b[0m \u001b[1m0s\u001b[0m 8ms/step - accuracy: 0.8889 - loss: 0.5254 - val_accuracy: 0.8375 - val_loss: 0.5857\n",
            "Epoch 21/100\n",
            "\u001b[1m23/23\u001b[0m \u001b[32m━━━━━━━━━━━━━━━━━━━━\u001b[0m\u001b[37m\u001b[0m \u001b[1m0s\u001b[0m 8ms/step - accuracy: 0.8868 - loss: 0.4976 - val_accuracy: 0.8125 - val_loss: 0.5911\n",
            "Epoch 22/100\n",
            "\u001b[1m23/23\u001b[0m \u001b[32m━━━━━━━━━━━━━━━━━━━━\u001b[0m\u001b[37m\u001b[0m \u001b[1m0s\u001b[0m 8ms/step - accuracy: 0.9056 - loss: 0.4941 - val_accuracy: 0.8750 - val_loss: 0.5749\n",
            "Epoch 23/100\n",
            "\u001b[1m23/23\u001b[0m \u001b[32m━━━━━━━━━━━━━━━━━━━━\u001b[0m\u001b[37m\u001b[0m \u001b[1m0s\u001b[0m 9ms/step - accuracy: 0.9226 - loss: 0.4697 - val_accuracy: 0.8625 - val_loss: 0.5754\n",
            "Epoch 24/100\n",
            "\u001b[1m23/23\u001b[0m \u001b[32m━━━━━━━━━━━━━━━━━━━━\u001b[0m\u001b[37m\u001b[0m \u001b[1m0s\u001b[0m 8ms/step - accuracy: 0.9055 - loss: 0.4942 - val_accuracy: 0.8750 - val_loss: 0.5688\n",
            "Epoch 25/100\n",
            "\u001b[1m23/23\u001b[0m \u001b[32m━━━━━━━━━━━━━━━━━━━━\u001b[0m\u001b[37m\u001b[0m \u001b[1m0s\u001b[0m 5ms/step - accuracy: 0.9155 - loss: 0.4721 - val_accuracy: 0.8625 - val_loss: 0.5616\n",
            "Epoch 26/100\n",
            "\u001b[1m23/23\u001b[0m \u001b[32m━━━━━━━━━━━━━━━━━━━━\u001b[0m\u001b[37m\u001b[0m \u001b[1m0s\u001b[0m 5ms/step - accuracy: 0.9162 - loss: 0.4856 - val_accuracy: 0.8625 - val_loss: 0.5604\n",
            "Epoch 27/100\n",
            "\u001b[1m23/23\u001b[0m \u001b[32m━━━━━━━━━━━━━━━━━━━━\u001b[0m\u001b[37m\u001b[0m \u001b[1m0s\u001b[0m 5ms/step - accuracy: 0.9189 - loss: 0.4526 - val_accuracy: 0.8625 - val_loss: 0.5641\n",
            "Epoch 28/100\n",
            "\u001b[1m23/23\u001b[0m \u001b[32m━━━━━━━━━━━━━━━━━━━━\u001b[0m\u001b[37m\u001b[0m \u001b[1m0s\u001b[0m 5ms/step - accuracy: 0.9199 - loss: 0.4510 - val_accuracy: 0.8625 - val_loss: 0.5617\n",
            "Epoch 29/100\n",
            "\u001b[1m23/23\u001b[0m \u001b[32m━━━━━━━━━━━━━━━━━━━━\u001b[0m\u001b[37m\u001b[0m \u001b[1m0s\u001b[0m 5ms/step - accuracy: 0.9251 - loss: 0.4543 - val_accuracy: 0.8625 - val_loss: 0.5470\n",
            "Epoch 30/100\n",
            "\u001b[1m23/23\u001b[0m \u001b[32m━━━━━━━━━━━━━━━━━━━━\u001b[0m\u001b[37m\u001b[0m \u001b[1m0s\u001b[0m 5ms/step - accuracy: 0.9061 - loss: 0.4622 - val_accuracy: 0.8500 - val_loss: 0.5509\n",
            "Epoch 31/100\n",
            "\u001b[1m23/23\u001b[0m \u001b[32m━━━━━━━━━━━━━━━━━━━━\u001b[0m\u001b[37m\u001b[0m \u001b[1m0s\u001b[0m 5ms/step - accuracy: 0.9175 - loss: 0.4563 - val_accuracy: 0.8500 - val_loss: 0.5595\n",
            "Epoch 32/100\n",
            "\u001b[1m23/23\u001b[0m \u001b[32m━━━━━━━━━━━━━━━━━━━━\u001b[0m\u001b[37m\u001b[0m \u001b[1m0s\u001b[0m 5ms/step - accuracy: 0.9166 - loss: 0.4383 - val_accuracy: 0.8500 - val_loss: 0.5513\n",
            "Epoch 33/100\n",
            "\u001b[1m23/23\u001b[0m \u001b[32m━━━━━━━━━━━━━━━━━━━━\u001b[0m\u001b[37m\u001b[0m \u001b[1m0s\u001b[0m 7ms/step - accuracy: 0.9221 - loss: 0.4448 - val_accuracy: 0.8375 - val_loss: 0.5553\n",
            "Epoch 34/100\n",
            "\u001b[1m23/23\u001b[0m \u001b[32m━━━━━━━━━━━━━━━━━━━━\u001b[0m\u001b[37m\u001b[0m \u001b[1m0s\u001b[0m 5ms/step - accuracy: 0.9256 - loss: 0.4414 - val_accuracy: 0.8375 - val_loss: 0.5670\n",
            "Epoch 35/100\n",
            "\u001b[1m23/23\u001b[0m \u001b[32m━━━━━━━━━━━━━━━━━━━━\u001b[0m\u001b[37m\u001b[0m \u001b[1m0s\u001b[0m 5ms/step - accuracy: 0.9181 - loss: 0.4413 - val_accuracy: 0.8250 - val_loss: 0.5674\n",
            "Epoch 36/100\n",
            "\u001b[1m23/23\u001b[0m \u001b[32m━━━━━━━━━━━━━━━━━━━━\u001b[0m\u001b[37m\u001b[0m \u001b[1m0s\u001b[0m 5ms/step - accuracy: 0.9464 - loss: 0.4346 - val_accuracy: 0.8500 - val_loss: 0.5424\n",
            "Epoch 37/100\n",
            "\u001b[1m23/23\u001b[0m \u001b[32m━━━━━━━━━━━━━━━━━━━━\u001b[0m\u001b[37m\u001b[0m \u001b[1m0s\u001b[0m 5ms/step - accuracy: 0.9457 - loss: 0.4173 - val_accuracy: 0.8500 - val_loss: 0.5406\n",
            "Epoch 38/100\n",
            "\u001b[1m23/23\u001b[0m \u001b[32m━━━━━━━━━━━━━━━━━━━━\u001b[0m\u001b[37m\u001b[0m \u001b[1m0s\u001b[0m 5ms/step - accuracy: 0.9383 - loss: 0.4226 - val_accuracy: 0.8375 - val_loss: 0.5410\n",
            "Epoch 39/100\n",
            "\u001b[1m23/23\u001b[0m \u001b[32m━━━━━━━━━━━━━━━━━━━━\u001b[0m\u001b[37m\u001b[0m \u001b[1m0s\u001b[0m 5ms/step - accuracy: 0.9208 - loss: 0.4262 - val_accuracy: 0.8375 - val_loss: 0.5384\n",
            "Epoch 40/100\n",
            "\u001b[1m23/23\u001b[0m \u001b[32m━━━━━━━━━━━━━━━━━━━━\u001b[0m\u001b[37m\u001b[0m \u001b[1m0s\u001b[0m 5ms/step - accuracy: 0.9265 - loss: 0.4200 - val_accuracy: 0.8375 - val_loss: 0.5398\n",
            "Epoch 41/100\n",
            "\u001b[1m23/23\u001b[0m \u001b[32m━━━━━━━━━━━━━━━━━━━━\u001b[0m\u001b[37m\u001b[0m \u001b[1m0s\u001b[0m 6ms/step - accuracy: 0.9321 - loss: 0.4224 - val_accuracy: 0.8250 - val_loss: 0.5600\n",
            "Epoch 42/100\n",
            "\u001b[1m23/23\u001b[0m \u001b[32m━━━━━━━━━━━━━━━━━━━━\u001b[0m\u001b[37m\u001b[0m \u001b[1m0s\u001b[0m 5ms/step - accuracy: 0.9289 - loss: 0.4155 - val_accuracy: 0.8375 - val_loss: 0.5537\n",
            "Epoch 43/100\n",
            "\u001b[1m23/23\u001b[0m \u001b[32m━━━━━━━━━━━━━━━━━━━━\u001b[0m\u001b[37m\u001b[0m \u001b[1m0s\u001b[0m 5ms/step - accuracy: 0.9534 - loss: 0.3965 - val_accuracy: 0.8375 - val_loss: 0.5547\n",
            "Epoch 44/100\n",
            "\u001b[1m23/23\u001b[0m \u001b[32m━━━━━━━━━━━━━━━━━━━━\u001b[0m\u001b[37m\u001b[0m \u001b[1m0s\u001b[0m 7ms/step - accuracy: 0.9401 - loss: 0.4048 - val_accuracy: 0.8375 - val_loss: 0.5494\n",
            "Epoch 45/100\n",
            "\u001b[1m23/23\u001b[0m \u001b[32m━━━━━━━━━━━━━━━━━━━━\u001b[0m\u001b[37m\u001b[0m \u001b[1m0s\u001b[0m 5ms/step - accuracy: 0.9132 - loss: 0.4257 - val_accuracy: 0.8500 - val_loss: 0.5363\n",
            "Epoch 46/100\n",
            "\u001b[1m23/23\u001b[0m \u001b[32m━━━━━━━━━━━━━━━━━━━━\u001b[0m\u001b[37m\u001b[0m \u001b[1m0s\u001b[0m 5ms/step - accuracy: 0.9420 - loss: 0.3972 - val_accuracy: 0.8500 - val_loss: 0.5433\n",
            "Epoch 47/100\n",
            "\u001b[1m23/23\u001b[0m \u001b[32m━━━━━━━━━━━━━━━━━━━━\u001b[0m\u001b[37m\u001b[0m \u001b[1m0s\u001b[0m 7ms/step - accuracy: 0.9332 - loss: 0.4207 - val_accuracy: 0.8500 - val_loss: 0.5353\n",
            "Epoch 48/100\n",
            "\u001b[1m23/23\u001b[0m \u001b[32m━━━━━━━━━━━━━━━━━━━━\u001b[0m\u001b[37m\u001b[0m \u001b[1m0s\u001b[0m 5ms/step - accuracy: 0.9261 - loss: 0.4126 - val_accuracy: 0.8500 - val_loss: 0.5370\n",
            "Epoch 49/100\n",
            "\u001b[1m23/23\u001b[0m \u001b[32m━━━━━━━━━━━━━━━━━━━━\u001b[0m\u001b[37m\u001b[0m \u001b[1m0s\u001b[0m 5ms/step - accuracy: 0.9310 - loss: 0.4009 - val_accuracy: 0.8375 - val_loss: 0.5298\n",
            "Epoch 50/100\n",
            "\u001b[1m23/23\u001b[0m \u001b[32m━━━━━━━━━━━━━━━━━━━━\u001b[0m\u001b[37m\u001b[0m \u001b[1m0s\u001b[0m 5ms/step - accuracy: 0.9494 - loss: 0.3969 - val_accuracy: 0.8625 - val_loss: 0.5186\n",
            "Epoch 51/100\n",
            "\u001b[1m23/23\u001b[0m \u001b[32m━━━━━━━━━━━━━━━━━━━━\u001b[0m\u001b[37m\u001b[0m \u001b[1m0s\u001b[0m 5ms/step - accuracy: 0.9469 - loss: 0.3828 - val_accuracy: 0.8500 - val_loss: 0.5221\n",
            "Epoch 52/100\n",
            "\u001b[1m23/23\u001b[0m \u001b[32m━━━━━━━━━━━━━━━━━━━━\u001b[0m\u001b[37m\u001b[0m \u001b[1m0s\u001b[0m 5ms/step - accuracy: 0.9502 - loss: 0.3913 - val_accuracy: 0.8375 - val_loss: 0.5242\n",
            "Epoch 53/100\n",
            "\u001b[1m23/23\u001b[0m \u001b[32m━━━━━━━━━━━━━━━━━━━━\u001b[0m\u001b[37m\u001b[0m \u001b[1m0s\u001b[0m 5ms/step - accuracy: 0.9447 - loss: 0.3806 - val_accuracy: 0.8375 - val_loss: 0.5397\n",
            "Epoch 54/100\n",
            "\u001b[1m23/23\u001b[0m \u001b[32m━━━━━━━━━━━━━━━━━━━━\u001b[0m\u001b[37m\u001b[0m \u001b[1m0s\u001b[0m 5ms/step - accuracy: 0.9380 - loss: 0.4030 - val_accuracy: 0.8500 - val_loss: 0.5339\n",
            "Epoch 55/100\n",
            "\u001b[1m23/23\u001b[0m \u001b[32m━━━━━━━━━━━━━━━━━━━━\u001b[0m\u001b[37m\u001b[0m \u001b[1m0s\u001b[0m 5ms/step - accuracy: 0.9431 - loss: 0.3918 - val_accuracy: 0.8250 - val_loss: 0.5458\n",
            "Epoch 56/100\n",
            "\u001b[1m23/23\u001b[0m \u001b[32m━━━━━━━━━━━━━━━━━━━━\u001b[0m\u001b[37m\u001b[0m \u001b[1m0s\u001b[0m 5ms/step - accuracy: 0.9558 - loss: 0.3737 - val_accuracy: 0.8500 - val_loss: 0.5189\n",
            "Epoch 57/100\n",
            "\u001b[1m23/23\u001b[0m \u001b[32m━━━━━━━━━━━━━━━━━━━━\u001b[0m\u001b[37m\u001b[0m \u001b[1m0s\u001b[0m 5ms/step - accuracy: 0.9612 - loss: 0.3696 - val_accuracy: 0.8500 - val_loss: 0.5203\n",
            "Epoch 58/100\n",
            "\u001b[1m23/23\u001b[0m \u001b[32m━━━━━━━━━━━━━━━━━━━━\u001b[0m\u001b[37m\u001b[0m \u001b[1m0s\u001b[0m 5ms/step - accuracy: 0.9493 - loss: 0.3836 - val_accuracy: 0.8250 - val_loss: 0.5252\n",
            "Epoch 59/100\n",
            "\u001b[1m23/23\u001b[0m \u001b[32m━━━━━━━━━━━━━━━━━━━━\u001b[0m\u001b[37m\u001b[0m \u001b[1m0s\u001b[0m 5ms/step - accuracy: 0.9530 - loss: 0.3861 - val_accuracy: 0.8500 - val_loss: 0.5278\n",
            "Epoch 60/100\n",
            "\u001b[1m23/23\u001b[0m \u001b[32m━━━━━━━━━━━━━━━━━━━━\u001b[0m\u001b[37m\u001b[0m \u001b[1m0s\u001b[0m 5ms/step - accuracy: 0.9451 - loss: 0.3764 - val_accuracy: 0.8375 - val_loss: 0.5367\n"
          ]
        }
      ]
    },
    {
      "cell_type": "markdown",
      "source": [
        "# Plot the learning curve\n"
      ],
      "metadata": {
        "id": "Bz9fKg9XYYZO"
      }
    },
    {
      "cell_type": "code",
      "source": [
        "import matplotlib.pyplot as plt\n",
        "\n",
        "plt.figure(figsize=(10, 4))\n",
        "plt.plot(hist.history[\"loss\"], label=\"Training Loss\")\n",
        "plt.plot(hist.history[\"val_loss\"], label=\"Validation Loss\")\n",
        "plt.xlabel(\"Epochs\")\n",
        "plt.ylabel(\"Loss\")\n",
        "plt.title(\"Learning Curve\")\n",
        "plt.legend()\n",
        "plt.show()\n"
      ],
      "metadata": {
        "colab": {
          "base_uri": "https://localhost:8080/",
          "height": 410
        },
        "id": "gP296yv-YMdg",
        "outputId": "1658ede3-4cf0-4c38-f88f-f4f5f1c2c9de"
      },
      "execution_count": 28,
      "outputs": [
        {
          "output_type": "display_data",
          "data": {
            "text/plain": [
              "<Figure size 1000x400 with 1 Axes>"
            ],
            "image/png": "[encoded data removed]"
          },
          "metadata": {}
        }
      ]
    },
    {
      "cell_type": "markdown",
      "source": [
        "# Evalutate model\n"
      ],
      "metadata": {
        "id": "AMX1JH98YiTr"
      }
    },
    {
      "cell_type": "code",
      "source": [
        "model.evaluate(xtrain, ytrain)\n"
      ],
      "metadata": {
        "colab": {
          "base_uri": "https://localhost:8080/"
        },
        "id": "6_gE_WDQYeC1",
        "outputId": "5df83490-554d-4b34-b401-eb43e3b7644e"
      },
      "execution_count": 29,
      "outputs": [
        {
          "output_type": "stream",
          "name": "stdout",
          "text": [
            "\u001b[1m25/25\u001b[0m \u001b[32m━━━━━━━━━━━━━━━━━━━━\u001b[0m\u001b[37m\u001b[0m \u001b[1m0s\u001b[0m 3ms/step - accuracy: 0.9613 - loss: 0.3662 \n"
          ]
        },
        {
          "output_type": "execute_result",
          "data": {
            "text/plain": [
              "[0.38202229142189026, 0.9474999904632568]"
            ]
          },
          "metadata": {},
          "execution_count": 29
        }
      ]
    },
    {
      "cell_type": "code",
      "source": [
        "model.evaluate(xtest, ytest)\n"
      ],
      "metadata": {
        "colab": {
          "base_uri": "https://localhost:8080/"
        },
        "id": "J7xFbq1GYl9O",
        "outputId": "bb8b2e22-ff5c-46bf-f3a3-72a17dba4dd9"
      },
      "execution_count": 30,
      "outputs": [
        {
          "output_type": "stream",
          "name": "stdout",
          "text": [
            "\u001b[1m7/7\u001b[0m \u001b[32m━━━━━━━━━━━━━━━━━━━━\u001b[0m\u001b[37m\u001b[0m \u001b[1m0s\u001b[0m 62ms/step - accuracy: 0.8000 - loss: 0.6619\n"
          ]
        },
        {
          "output_type": "execute_result",
          "data": {
            "text/plain": [
              "[0.6463620662689209, 0.7850000262260437]"
            ]
          },
          "metadata": {},
          "execution_count": 30
        }
      ]
    },
    {
      "cell_type": "code",
      "source": [
        "yprob_train = model.predict(xtrain)\n",
        "yprob_train[0:5]\n"
      ],
      "metadata": {
        "colab": {
          "base_uri": "https://localhost:8080/"
        },
        "id": "XEk9XwqDYplh",
        "outputId": "e25c5704-8788-4b83-c6c0-43600492cd1c"
      },
      "execution_count": 31,
      "outputs": [
        {
          "output_type": "stream",
          "name": "stdout",
          "text": [
            "\u001b[1m25/25\u001b[0m \u001b[32m━━━━━━━━━━━━━━━━━━━━\u001b[0m\u001b[37m\u001b[0m \u001b[1m0s\u001b[0m 2ms/step  \n"
          ]
        },
        {
          "output_type": "execute_result",
          "data": {
            "text/plain": [
              "array([[0.0681259 ],\n",
              "       [0.9522139 ],\n",
              "       [0.03134944],\n",
              "       [0.07398735],\n",
              "       [0.9782568 ]], dtype=float32)"
            ]
          },
          "metadata": {},
          "execution_count": 31
        }
      ]
    },
    {
      "cell_type": "code",
      "source": [
        "ypred_train = (yprob_train >= 0.5).astype(int).flatten()\n",
        "ypred_train[0:5]\n"
      ],
      "metadata": {
        "colab": {
          "base_uri": "https://localhost:8080/"
        },
        "id": "6oA1r-ZKYsvi",
        "outputId": "f80c2b3b-7b0e-45eb-f69c-99d2c6061776"
      },
      "execution_count": 32,
      "outputs": [
        {
          "output_type": "execute_result",
          "data": {
            "text/plain": [
              "array([0, 1, 0, 0, 1])"
            ]
          },
          "metadata": {},
          "execution_count": 32
        }
      ]
    },
    {
      "cell_type": "code",
      "source": [
        "ytrain.head()\n"
      ],
      "metadata": {
        "colab": {
          "base_uri": "https://localhost:8080/",
          "height": 241
        },
        "id": "Ph3RLmPCYxFg",
        "outputId": "52c8c5e7-8263-44d5-87fe-54c3e802cfda"
      },
      "execution_count": 33,
      "outputs": [
        {
          "output_type": "execute_result",
          "data": {
            "text/plain": [
              "29     0\n",
              "535    1\n",
              "695    0\n",
              "557    0\n",
              "836    1\n",
              "Name: Liked, dtype: int64"
            ],
            "text/html": [
              "<div>\n",
              "<style scoped>\n",
              "    .dataframe tbody tr th:only-of-type {\n",
              "        vertical-align: middle;\n",
              "    }\n",
              "\n",
              "    .dataframe tbody tr th {\n",
              "        vertical-align: top;\n",
              "    }\n",
              "\n",
              "    .dataframe thead th {\n",
              "        text-align: right;\n",
              "    }\n",
              "</style>\n",
              "<table border=\"1\" class=\"dataframe\">\n",
              "  <thead>\n",
              "    <tr style=\"text-align: right;\">\n",
              "      <th></th>\n",
              "      <th>Liked</th>\n",
              "    </tr>\n",
              "  </thead>\n",
              "  <tbody>\n",
              "    <tr>\n",
              "      <th>29</th>\n",
              "      <td>0</td>\n",
              "    </tr>\n",
              "    <tr>\n",
              "      <th>535</th>\n",
              "      <td>1</td>\n",
              "    </tr>\n",
              "    <tr>\n",
              "      <th>695</th>\n",
              "      <td>0</td>\n",
              "    </tr>\n",
              "    <tr>\n",
              "      <th>557</th>\n",
              "      <td>0</td>\n",
              "    </tr>\n",
              "    <tr>\n",
              "      <th>836</th>\n",
              "      <td>1</td>\n",
              "    </tr>\n",
              "  </tbody>\n",
              "</table>\n",
              "</div><br><label><b>dtype:</b> int64</label>"
            ]
          },
          "metadata": {},
          "execution_count": 33
        }
      ]
    },
    {
      "cell_type": "code",
      "source": [
        "yprob_test = model.predict(xtest)\n",
        "yprob_test[0:5]\n"
      ],
      "metadata": {
        "colab": {
          "base_uri": "https://localhost:8080/"
        },
        "id": "ZcyC3gKIYz8k",
        "outputId": "6f34e623-9915-4aa1-db80-82fc2d629dae"
      },
      "execution_count": 34,
      "outputs": [
        {
          "output_type": "stream",
          "name": "stdout",
          "text": [
            "\u001b[1m7/7\u001b[0m \u001b[32m━━━━━━━━━━━━━━━━━━━━\u001b[0m\u001b[37m\u001b[0m \u001b[1m0s\u001b[0m 31ms/step\n"
          ]
        },
        {
          "output_type": "execute_result",
          "data": {
            "text/plain": [
              "array([[0.3814937 ],\n",
              "       [0.96592695],\n",
              "       [0.9843162 ],\n",
              "       [0.9818872 ],\n",
              "       [0.63005793]], dtype=float32)"
            ]
          },
          "metadata": {},
          "execution_count": 34
        }
      ]
    },
    {
      "cell_type": "code",
      "source": [
        "ypred_test = (yprob_test >= 0.5).astype(int).flatten()\n",
        "ypred_test[0:5]\n"
      ],
      "metadata": {
        "colab": {
          "base_uri": "https://localhost:8080/"
        },
        "id": "lkBA8MhjY5W3",
        "outputId": "98f5e29f-161f-4f05-a6c6-bdf79fc5b112"
      },
      "execution_count": 35,
      "outputs": [
        {
          "output_type": "execute_result",
          "data": {
            "text/plain": [
              "array([0, 1, 1, 1, 1])"
            ]
          },
          "metadata": {},
          "execution_count": 35
        }
      ]
    },
    {
      "cell_type": "code",
      "source": [
        "ytest.head()\n"
      ],
      "metadata": {
        "colab": {
          "base_uri": "https://localhost:8080/",
          "height": 241
        },
        "id": "AabnTFNGY9Hj",
        "outputId": "fa130f29-a4bb-400b-9680-04dbcb528426"
      },
      "execution_count": 36,
      "outputs": [
        {
          "output_type": "execute_result",
          "data": {
            "text/plain": [
              "521    1\n",
              "737    1\n",
              "740    1\n",
              "660    1\n",
              "411    1\n",
              "Name: Liked, dtype: int64"
            ],
            "text/html": [
              "<div>\n",
              "<style scoped>\n",
              "    .dataframe tbody tr th:only-of-type {\n",
              "        vertical-align: middle;\n",
              "    }\n",
              "\n",
              "    .dataframe tbody tr th {\n",
              "        vertical-align: top;\n",
              "    }\n",
              "\n",
              "    .dataframe thead th {\n",
              "        text-align: right;\n",
              "    }\n",
              "</style>\n",
              "<table border=\"1\" class=\"dataframe\">\n",
              "  <thead>\n",
              "    <tr style=\"text-align: right;\">\n",
              "      <th></th>\n",
              "      <th>Liked</th>\n",
              "    </tr>\n",
              "  </thead>\n",
              "  <tbody>\n",
              "    <tr>\n",
              "      <th>521</th>\n",
              "      <td>1</td>\n",
              "    </tr>\n",
              "    <tr>\n",
              "      <th>737</th>\n",
              "      <td>1</td>\n",
              "    </tr>\n",
              "    <tr>\n",
              "      <th>740</th>\n",
              "      <td>1</td>\n",
              "    </tr>\n",
              "    <tr>\n",
              "      <th>660</th>\n",
              "      <td>1</td>\n",
              "    </tr>\n",
              "    <tr>\n",
              "      <th>411</th>\n",
              "      <td>1</td>\n",
              "    </tr>\n",
              "  </tbody>\n",
              "</table>\n",
              "</div><br><label><b>dtype:</b> int64</label>"
            ]
          },
          "metadata": {},
          "execution_count": 36
        }
      ]
    },
    {
      "cell_type": "markdown",
      "source": [
        "# Save the objects\n",
        "tfidf, svd, model\n",
        "\n"
      ],
      "metadata": {
        "id": "G_ReOB9WZDuO"
      }
    },
    {
      "cell_type": "code",
      "source": [
        "import joblib\n",
        "joblib.dump(tfidf, \"tfidf.joblib\")\n"
      ],
      "metadata": {
        "colab": {
          "base_uri": "https://localhost:8080/"
        },
        "id": "e5cJyBlnY_95",
        "outputId": "411e1308-792f-4050-9b2e-9f765028e2a3"
      },
      "execution_count": 37,
      "outputs": [
        {
          "output_type": "execute_result",
          "data": {
            "text/plain": [
              "['tfidf.joblib']"
            ]
          },
          "metadata": {},
          "execution_count": 37
        }
      ]
    },
    {
      "cell_type": "code",
      "source": [
        "joblib.dump(svd, \"svd.joblib\")\n"
      ],
      "metadata": {
        "colab": {
          "base_uri": "https://localhost:8080/"
        },
        "id": "OSbwXlJqZSm_",
        "outputId": "03f92f54-ac67-4116-a064-cda727e2ae58"
      },
      "execution_count": 38,
      "outputs": [
        {
          "output_type": "execute_result",
          "data": {
            "text/plain": [
              "['svd.joblib']"
            ]
          },
          "metadata": {},
          "execution_count": 38
        }
      ]
    },
    {
      "cell_type": "code",
      "source": [
        "model.save(\"sentiment_model.keras\")\n"
      ],
      "metadata": {
        "id": "6vwweVCeZVoe"
      },
      "execution_count": 39,
      "outputs": []
    },
    {
      "cell_type": "markdown",
      "source": [
        "# Loading the files"
      ],
      "metadata": {
        "id": "PXsxJP0sZc2j"
      }
    },
    {
      "cell_type": "code",
      "source": [
        "tfidf = joblib.load(\"tfidf.joblib\")\n",
        "tfidf\n"
      ],
      "metadata": {
        "colab": {
          "base_uri": "https://localhost:8080/",
          "height": 80
        },
        "id": "0L-2oyyIZYTJ",
        "outputId": "11ca73b1-5fee-4a32-e13b-151f86ae22da"
      },
      "execution_count": 40,
      "outputs": [
        {
          "output_type": "execute_result",
          "data": {
            "text/plain": [
              "TfidfVectorizer()"
            ],
            "text/html": [
              "<style>#sk-container-id-1 {\n",
              "  /* Definition of color scheme common for light and dark mode */\n",
              "  --sklearn-color-text: #000;\n",
              "  --sklearn-color-text-muted: #666;\n",
              "  --sklearn-color-line: gray;\n",
              "  /* Definition of color scheme for unfitted estimators */\n",
              "  --sklearn-color-unfitted-level-0: #fff5e6;\n",
              "  --sklearn-color-unfitted-level-1: #f6e4d2;\n",
              "  --sklearn-color-unfitted-level-2: #ffe0b3;\n",
              "  --sklearn-color-unfitted-level-3: chocolate;\n",
              "  /* Definition of color scheme for fitted estimators */\n",
              "  --sklearn-color-fitted-level-0: #f0f8ff;\n",
              "  --sklearn-color-fitted-level-1: #d4ebff;\n",
              "  --sklearn-color-fitted-level-2: #b3dbfd;\n",
              "  --sklearn-color-fitted-level-3: cornflowerblue;\n",
              "\n",
              "  /* Specific color for light theme */\n",
              "  --sklearn-color-text-on-default-background: var(--sg-text-color, var(--theme-code-foreground, var(--jp-content-font-color1, black)));\n",
              "  --sklearn-color-background: var(--sg-background-color, var(--theme-background, var(--jp-layout-color0, white)));\n",
              "  --sklearn-color-border-box: var(--sg-text-color, var(--theme-code-foreground, var(--jp-content-font-color1, black)));\n",
              "  --sklearn-color-icon: #696969;\n",
              "\n",
              "  @media (prefers-color-scheme: dark) {\n",
              "    /* Redefinition of color scheme for dark theme */\n",
              "    --sklearn-color-text-on-default-background: var(--sg-text-color, var(--theme-code-foreground, var(--jp-content-font-color1, white)));\n",
              "    --sklearn-color-background: var(--sg-background-color, var(--theme-background, var(--jp-layout-color0, #111)));\n",
              "    --sklearn-color-border-box: var(--sg-text-color, var(--theme-code-foreground, var(--jp-content-font-color1, white)));\n",
              "    --sklearn-color-icon: #878787;\n",
              "  }\n",
              "}\n",
              "\n",
              "#sk-container-id-1 {\n",
              "  color: var(--sklearn-color-text);\n",
              "}\n",
              "\n",
              "#sk-container-id-1 pre {\n",
              "  padding: 0;\n",
              "}\n",
              "\n",
              "#sk-container-id-1 input.sk-hidden--visually {\n",
              "  border: 0;\n",
              "  clip: rect(1px 1px 1px 1px);\n",
              "  clip: rect(1px, 1px, 1px, 1px);\n",
              "  height: 1px;\n",
              "  margin: -1px;\n",
              "  overflow: hidden;\n",
              "  padding: 0;\n",
              "  position: absolute;\n",
              "  width: 1px;\n",
              "}\n",
              "\n",
              "#sk-container-id-1 div.sk-dashed-wrapped {\n",
              "  border: 1px dashed var(--sklearn-color-line);\n",
              "  margin: 0 0.4em 0.5em 0.4em;\n",
              "  box-sizing: border-box;\n",
              "  padding-bottom: 0.4em;\n",
              "  background-color: var(--sklearn-color-background);\n",
              "}\n",
              "\n",
              "#sk-container-id-1 div.sk-container {\n",
              "  /* jupyter's `normalize.less` sets `[hidden] { display: none; }`\n",
              "     but bootstrap.min.css set `[hidden] { display: none !important; }`\n",
              "     so we also need the `!important` here to be able to override the\n",
              "     default hidden behavior on the sphinx rendered scikit-learn.org.\n",
              "     See: https://github.com/scikit-learn/scikit-learn/issues/21755 */\n",
              "  display: inline-block !important;\n",
              "  position: relative;\n",
              "}\n",
              "\n",
              "#sk-container-id-1 div.sk-text-repr-fallback {\n",
              "  display: none;\n",
              "}\n",
              "\n",
              "div.sk-parallel-item,\n",
              "div.sk-serial,\n",
              "div.sk-item {\n",
              "  /* draw centered vertical line to link estimators */\n",
              "  background-image: linear-gradient(var(--sklearn-color-text-on-default-background), var(--sklearn-color-text-on-default-background));\n",
              "  background-size: 2px 100%;\n",
              "  background-repeat: no-repeat;\n",
              "  background-position: center center;\n",
              "}\n",
              "\n",
              "/* Parallel-specific style estimator block */\n",
              "\n",
              "#sk-container-id-1 div.sk-parallel-item::after {\n",
              "  content: \"\";\n",
              "  width: 100%;\n",
              "  border-bottom: 2px solid var(--sklearn-color-text-on-default-background);\n",
              "  flex-grow: 1;\n",
              "}\n",
              "\n",
              "#sk-container-id-1 div.sk-parallel {\n",
              "  display: flex;\n",
              "  align-items: stretch;\n",
              "  justify-content: center;\n",
              "  background-color: var(--sklearn-color-background);\n",
              "  position: relative;\n",
              "}\n",
              "\n",
              "#sk-container-id-1 div.sk-parallel-item {\n",
              "  display: flex;\n",
              "  flex-direction: column;\n",
              "}\n",
              "\n",
              "#sk-container-id-1 div.sk-parallel-item:first-child::after {\n",
              "  align-self: flex-end;\n",
              "  width: 50%;\n",
              "}\n",
              "\n",
              "#sk-container-id-1 div.sk-parallel-item:last-child::after {\n",
              "  align-self: flex-start;\n",
              "  width: 50%;\n",
              "}\n",
              "\n",
              "#sk-container-id-1 div.sk-parallel-item:only-child::after {\n",
              "  width: 0;\n",
              "}\n",
              "\n",
              "/* Serial-specific style estimator block */\n",
              "\n",
              "#sk-container-id-1 div.sk-serial {\n",
              "  display: flex;\n",
              "  flex-direction: column;\n",
              "  align-items: center;\n",
              "  background-color: var(--sklearn-color-background);\n",
              "  padding-right: 1em;\n",
              "  padding-left: 1em;\n",
              "}\n",
              "\n",
              "\n",
              "/* Toggleable style: style used for estimator/Pipeline/ColumnTransformer box that is\n",
              "clickable and can be expanded/collapsed.\n",
              "- Pipeline and ColumnTransformer use this feature and define the default style\n",
              "- Estimators will overwrite some part of the style using the `sk-estimator` class\n",
              "*/\n",
              "\n",
              "/* Pipeline and ColumnTransformer style (default) */\n",
              "\n",
              "#sk-container-id-1 div.sk-toggleable {\n",
              "  /* Default theme specific background. It is overwritten whether we have a\n",
              "  specific estimator or a Pipeline/ColumnTransformer */\n",
              "  background-color: var(--sklearn-color-background);\n",
              "}\n",
              "\n",
              "/* Toggleable label */\n",
              "#sk-container-id-1 label.sk-toggleable__label {\n",
              "  cursor: pointer;\n",
              "  display: flex;\n",
              "  width: 100%;\n",
              "  margin-bottom: 0;\n",
              "  padding: 0.5em;\n",
              "  box-sizing: border-box;\n",
              "  text-align: center;\n",
              "  align-items: start;\n",
              "  justify-content: space-between;\n",
              "  gap: 0.5em;\n",
              "}\n",
              "\n",
              "#sk-container-id-1 label.sk-toggleable__label .caption {\n",
              "  font-size: 0.6rem;\n",
              "  font-weight: lighter;\n",
              "  color: var(--sklearn-color-text-muted);\n",
              "}\n",
              "\n",
              "#sk-container-id-1 label.sk-toggleable__label-arrow:before {\n",
              "  /* Arrow on the left of the label */\n",
              "  content: \"▸\";\n",
              "  float: left;\n",
              "  margin-right: 0.25em;\n",
              "  color: var(--sklearn-color-icon);\n",
              "}\n",
              "\n",
              "#sk-container-id-1 label.sk-toggleable__label-arrow:hover:before {\n",
              "  color: var(--sklearn-color-text);\n",
              "}\n",
              "\n",
              "/* Toggleable content - dropdown */\n",
              "\n",
              "#sk-container-id-1 div.sk-toggleable__content {\n",
              "  max-height: 0;\n",
              "  max-width: 0;\n",
              "  overflow: hidden;\n",
              "  text-align: left;\n",
              "  /* unfitted */\n",
              "  background-color: var(--sklearn-color-unfitted-level-0);\n",
              "}\n",
              "\n",
              "#sk-container-id-1 div.sk-toggleable__content.fitted {\n",
              "  /* fitted */\n",
              "  background-color: var(--sklearn-color-fitted-level-0);\n",
              "}\n",
              "\n",
              "#sk-container-id-1 div.sk-toggleable__content pre {\n",
              "  margin: 0.2em;\n",
              "  border-radius: 0.25em;\n",
              "  color: var(--sklearn-color-text);\n",
              "  /* unfitted */\n",
              "  background-color: var(--sklearn-color-unfitted-level-0);\n",
              "}\n",
              "\n",
              "#sk-container-id-1 div.sk-toggleable__content.fitted pre {\n",
              "  /* unfitted */\n",
              "  background-color: var(--sklearn-color-fitted-level-0);\n",
              "}\n",
              "\n",
              "#sk-container-id-1 input.sk-toggleable__control:checked~div.sk-toggleable__content {\n",
              "  /* Expand drop-down */\n",
              "  max-height: 200px;\n",
              "  max-width: 100%;\n",
              "  overflow: auto;\n",
              "}\n",
              "\n",
              "#sk-container-id-1 input.sk-toggleable__control:checked~label.sk-toggleable__label-arrow:before {\n",
              "  content: \"▾\";\n",
              "}\n",
              "\n",
              "/* Pipeline/ColumnTransformer-specific style */\n",
              "\n",
              "#sk-container-id-1 div.sk-label input.sk-toggleable__control:checked~label.sk-toggleable__label {\n",
              "  color: var(--sklearn-color-text);\n",
              "  background-color: var(--sklearn-color-unfitted-level-2);\n",
              "}\n",
              "\n",
              "#sk-container-id-1 div.sk-label.fitted input.sk-toggleable__control:checked~label.sk-toggleable__label {\n",
              "  background-color: var(--sklearn-color-fitted-level-2);\n",
              "}\n",
              "\n",
              "/* Estimator-specific style */\n",
              "\n",
              "/* Colorize estimator box */\n",
              "#sk-container-id-1 div.sk-estimator input.sk-toggleable__control:checked~label.sk-toggleable__label {\n",
              "  /* unfitted */\n",
              "  background-color: var(--sklearn-color-unfitted-level-2);\n",
              "}\n",
              "\n",
              "#sk-container-id-1 div.sk-estimator.fitted input.sk-toggleable__control:checked~label.sk-toggleable__label {\n",
              "  /* fitted */\n",
              "  background-color: var(--sklearn-color-fitted-level-2);\n",
              "}\n",
              "\n",
              "#sk-container-id-1 div.sk-label label.sk-toggleable__label,\n",
              "#sk-container-id-1 div.sk-label label {\n",
              "  /* The background is the default theme color */\n",
              "  color: var(--sklearn-color-text-on-default-background);\n",
              "}\n",
              "\n",
              "/* On hover, darken the color of the background */\n",
              "#sk-container-id-1 div.sk-label:hover label.sk-toggleable__label {\n",
              "  color: var(--sklearn-color-text);\n",
              "  background-color: var(--sklearn-color-unfitted-level-2);\n",
              "}\n",
              "\n",
              "/* Label box, darken color on hover, fitted */\n",
              "#sk-container-id-1 div.sk-label.fitted:hover label.sk-toggleable__label.fitted {\n",
              "  color: var(--sklearn-color-text);\n",
              "  background-color: var(--sklearn-color-fitted-level-2);\n",
              "}\n",
              "\n",
              "/* Estimator label */\n",
              "\n",
              "#sk-container-id-1 div.sk-label label {\n",
              "  font-family: monospace;\n",
              "  font-weight: bold;\n",
              "  display: inline-block;\n",
              "  line-height: 1.2em;\n",
              "}\n",
              "\n",
              "#sk-container-id-1 div.sk-label-container {\n",
              "  text-align: center;\n",
              "}\n",
              "\n",
              "/* Estimator-specific */\n",
              "#sk-container-id-1 div.sk-estimator {\n",
              "  font-family: monospace;\n",
              "  border: 1px dotted var(--sklearn-color-border-box);\n",
              "  border-radius: 0.25em;\n",
              "  box-sizing: border-box;\n",
              "  margin-bottom: 0.5em;\n",
              "  /* unfitted */\n",
              "  background-color: var(--sklearn-color-unfitted-level-0);\n",
              "}\n",
              "\n",
              "#sk-container-id-1 div.sk-estimator.fitted {\n",
              "  /* fitted */\n",
              "  background-color: var(--sklearn-color-fitted-level-0);\n",
              "}\n",
              "\n",
              "/* on hover */\n",
              "#sk-container-id-1 div.sk-estimator:hover {\n",
              "  /* unfitted */\n",
              "  background-color: var(--sklearn-color-unfitted-level-2);\n",
              "}\n",
              "\n",
              "#sk-container-id-1 div.sk-estimator.fitted:hover {\n",
              "  /* fitted */\n",
              "  background-color: var(--sklearn-color-fitted-level-2);\n",
              "}\n",
              "\n",
              "/* Specification for estimator info (e.g. \"i\" and \"?\") */\n",
              "\n",
              "/* Common style for \"i\" and \"?\" */\n",
              "\n",
              ".sk-estimator-doc-link,\n",
              "a:link.sk-estimator-doc-link,\n",
              "a:visited.sk-estimator-doc-link {\n",
              "  float: right;\n",
              "  font-size: smaller;\n",
              "  line-height: 1em;\n",
              "  font-family: monospace;\n",
              "  background-color: var(--sklearn-color-background);\n",
              "  border-radius: 1em;\n",
              "  height: 1em;\n",
              "  width: 1em;\n",
              "  text-decoration: none !important;\n",
              "  margin-left: 0.5em;\n",
              "  text-align: center;\n",
              "  /* unfitted */\n",
              "  border: var(--sklearn-color-unfitted-level-1) 1pt solid;\n",
              "  color: var(--sklearn-color-unfitted-level-1);\n",
              "}\n",
              "\n",
              ".sk-estimator-doc-link.fitted,\n",
              "a:link.sk-estimator-doc-link.fitted,\n",
              "a:visited.sk-estimator-doc-link.fitted {\n",
              "  /* fitted */\n",
              "  border: var(--sklearn-color-fitted-level-1) 1pt solid;\n",
              "  color: var(--sklearn-color-fitted-level-1);\n",
              "}\n",
              "\n",
              "/* On hover */\n",
              "div.sk-estimator:hover .sk-estimator-doc-link:hover,\n",
              ".sk-estimator-doc-link:hover,\n",
              "div.sk-label-container:hover .sk-estimator-doc-link:hover,\n",
              ".sk-estimator-doc-link:hover {\n",
              "  /* unfitted */\n",
              "  background-color: var(--sklearn-color-unfitted-level-3);\n",
              "  color: var(--sklearn-color-background);\n",
              "  text-decoration: none;\n",
              "}\n",
              "\n",
              "div.sk-estimator.fitted:hover .sk-estimator-doc-link.fitted:hover,\n",
              ".sk-estimator-doc-link.fitted:hover,\n",
              "div.sk-label-container:hover .sk-estimator-doc-link.fitted:hover,\n",
              ".sk-estimator-doc-link.fitted:hover {\n",
              "  /* fitted */\n",
              "  background-color: var(--sklearn-color-fitted-level-3);\n",
              "  color: var(--sklearn-color-background);\n",
              "  text-decoration: none;\n",
              "}\n",
              "\n",
              "/* Span, style for the box shown on hovering the info icon */\n",
              ".sk-estimator-doc-link span {\n",
              "  display: none;\n",
              "  z-index: 9999;\n",
              "  position: relative;\n",
              "  font-weight: normal;\n",
              "  right: .2ex;\n",
              "  padding: .5ex;\n",
              "  margin: .5ex;\n",
              "  width: min-content;\n",
              "  min-width: 20ex;\n",
              "  max-width: 50ex;\n",
              "  color: var(--sklearn-color-text);\n",
              "  box-shadow: 2pt 2pt 4pt #999;\n",
              "  /* unfitted */\n",
              "  background: var(--sklearn-color-unfitted-level-0);\n",
              "  border: .5pt solid var(--sklearn-color-unfitted-level-3);\n",
              "}\n",
              "\n",
              ".sk-estimator-doc-link.fitted span {\n",
              "  /* fitted */\n",
              "  background: var(--sklearn-color-fitted-level-0);\n",
              "  border: var(--sklearn-color-fitted-level-3);\n",
              "}\n",
              "\n",
              ".sk-estimator-doc-link:hover span {\n",
              "  display: block;\n",
              "}\n",
              "\n",
              "/* \"?\"-specific style due to the `<a>` HTML tag */\n",
              "\n",
              "#sk-container-id-1 a.estimator_doc_link {\n",
              "  float: right;\n",
              "  font-size: 1rem;\n",
              "  line-height: 1em;\n",
              "  font-family: monospace;\n",
              "  background-color: var(--sklearn-color-background);\n",
              "  border-radius: 1rem;\n",
              "  height: 1rem;\n",
              "  width: 1rem;\n",
              "  text-decoration: none;\n",
              "  /* unfitted */\n",
              "  color: var(--sklearn-color-unfitted-level-1);\n",
              "  border: var(--sklearn-color-unfitted-level-1) 1pt solid;\n",
              "}\n",
              "\n",
              "#sk-container-id-1 a.estimator_doc_link.fitted {\n",
              "  /* fitted */\n",
              "  border: var(--sklearn-color-fitted-level-1) 1pt solid;\n",
              "  color: var(--sklearn-color-fitted-level-1);\n",
              "}\n",
              "\n",
              "/* On hover */\n",
              "#sk-container-id-1 a.estimator_doc_link:hover {\n",
              "  /* unfitted */\n",
              "  background-color: var(--sklearn-color-unfitted-level-3);\n",
              "  color: var(--sklearn-color-background);\n",
              "  text-decoration: none;\n",
              "}\n",
              "\n",
              "#sk-container-id-1 a.estimator_doc_link.fitted:hover {\n",
              "  /* fitted */\n",
              "  background-color: var(--sklearn-color-fitted-level-3);\n",
              "}\n",
              "</style><div id=\"sk-container-id-1\" class=\"sk-top-container\"><div class=\"sk-text-repr-fallback\"><pre>TfidfVectorizer()</pre><b>In a Jupyter environment, please rerun this cell to show the HTML representation or trust the notebook. <br />On GitHub, the HTML representation is unable to render, please try loading this page with nbviewer.org.</b></div><div class=\"sk-container\" hidden><div class=\"sk-item\"><div class=\"sk-estimator fitted sk-toggleable\"><input class=\"sk-toggleable__control sk-hidden--visually\" id=\"sk-estimator-id-1\" type=\"checkbox\" checked><label for=\"sk-estimator-id-1\" class=\"sk-toggleable__label fitted sk-toggleable__label-arrow\"><div><div>TfidfVectorizer</div></div><div><a class=\"sk-estimator-doc-link fitted\" rel=\"noreferrer\" target=\"_blank\" href=\"https://scikit-learn.org/1.6/modules/generated/sklearn.feature_extraction.text.TfidfVectorizer.html\">?<span>Documentation for TfidfVectorizer</span></a><span class=\"sk-estimator-doc-link fitted\">i<span>Fitted</span></span></div></label><div class=\"sk-toggleable__content fitted\"><pre>TfidfVectorizer()</pre></div> </div></div></div></div>"
            ]
          },
          "metadata": {},
          "execution_count": 40
        }
      ]
    },
    {
      "cell_type": "code",
      "source": [
        "svd = joblib.load(\"svd.joblib\")\n",
        "svd\n"
      ],
      "metadata": {
        "colab": {
          "base_uri": "https://localhost:8080/",
          "height": 80
        },
        "id": "TRwCk2LzZjpe",
        "outputId": "6fc048f4-9a64-4f49-f744-0fc771a3a20d"
      },
      "execution_count": 41,
      "outputs": [
        {
          "output_type": "execute_result",
          "data": {
            "text/plain": [
              "TruncatedSVD(n_components=300)"
            ],
            "text/html": [
              "<style>#sk-container-id-2 {\n",
              "  /* Definition of color scheme common for light and dark mode */\n",
              "  --sklearn-color-text: #000;\n",
              "  --sklearn-color-text-muted: #666;\n",
              "  --sklearn-color-line: gray;\n",
              "  /* Definition of color scheme for unfitted estimators */\n",
              "  --sklearn-color-unfitted-level-0: #fff5e6;\n",
              "  --sklearn-color-unfitted-level-1: #f6e4d2;\n",
              "  --sklearn-color-unfitted-level-2: #ffe0b3;\n",
              "  --sklearn-color-unfitted-level-3: chocolate;\n",
              "  /* Definition of color scheme for fitted estimators */\n",
              "  --sklearn-color-fitted-level-0: #f0f8ff;\n",
              "  --sklearn-color-fitted-level-1: #d4ebff;\n",
              "  --sklearn-color-fitted-level-2: #b3dbfd;\n",
              "  --sklearn-color-fitted-level-3: cornflowerblue;\n",
              "\n",
              "  /* Specific color for light theme */\n",
              "  --sklearn-color-text-on-default-background: var(--sg-text-color, var(--theme-code-foreground, var(--jp-content-font-color1, black)));\n",
              "  --sklearn-color-background: var(--sg-background-color, var(--theme-background, var(--jp-layout-color0, white)));\n",
              "  --sklearn-color-border-box: var(--sg-text-color, var(--theme-code-foreground, var(--jp-content-font-color1, black)));\n",
              "  --sklearn-color-icon: #696969;\n",
              "\n",
              "  @media (prefers-color-scheme: dark) {\n",
              "    /* Redefinition of color scheme for dark theme */\n",
              "    --sklearn-color-text-on-default-background: var(--sg-text-color, var(--theme-code-foreground, var(--jp-content-font-color1, white)));\n",
              "    --sklearn-color-background: var(--sg-background-color, var(--theme-background, var(--jp-layout-color0, #111)));\n",
              "    --sklearn-color-border-box: var(--sg-text-color, var(--theme-code-foreground, var(--jp-content-font-color1, white)));\n",
              "    --sklearn-color-icon: #878787;\n",
              "  }\n",
              "}\n",
              "\n",
              "#sk-container-id-2 {\n",
              "  color: var(--sklearn-color-text);\n",
              "}\n",
              "\n",
              "#sk-container-id-2 pre {\n",
              "  padding: 0;\n",
              "}\n",
              "\n",
              "#sk-container-id-2 input.sk-hidden--visually {\n",
              "  border: 0;\n",
              "  clip: rect(1px 1px 1px 1px);\n",
              "  clip: rect(1px, 1px, 1px, 1px);\n",
              "  height: 1px;\n",
              "  margin: -1px;\n",
              "  overflow: hidden;\n",
              "  padding: 0;\n",
              "  position: absolute;\n",
              "  width: 1px;\n",
              "}\n",
              "\n",
              "#sk-container-id-2 div.sk-dashed-wrapped {\n",
              "  border: 1px dashed var(--sklearn-color-line);\n",
              "  margin: 0 0.4em 0.5em 0.4em;\n",
              "  box-sizing: border-box;\n",
              "  padding-bottom: 0.4em;\n",
              "  background-color: var(--sklearn-color-background);\n",
              "}\n",
              "\n",
              "#sk-container-id-2 div.sk-container {\n",
              "  /* jupyter's `normalize.less` sets `[hidden] { display: none; }`\n",
              "     but bootstrap.min.css set `[hidden] { display: none !important; }`\n",
              "     so we also need the `!important` here to be able to override the\n",
              "     default hidden behavior on the sphinx rendered scikit-learn.org.\n",
              "     See: https://github.com/scikit-learn/scikit-learn/issues/21755 */\n",
              "  display: inline-block !important;\n",
              "  position: relative;\n",
              "}\n",
              "\n",
              "#sk-container-id-2 div.sk-text-repr-fallback {\n",
              "  display: none;\n",
              "}\n",
              "\n",
              "div.sk-parallel-item,\n",
              "div.sk-serial,\n",
              "div.sk-item {\n",
              "  /* draw centered vertical line to link estimators */\n",
              "  background-image: linear-gradient(var(--sklearn-color-text-on-default-background), var(--sklearn-color-text-on-default-background));\n",
              "  background-size: 2px 100%;\n",
              "  background-repeat: no-repeat;\n",
              "  background-position: center center;\n",
              "}\n",
              "\n",
              "/* Parallel-specific style estimator block */\n",
              "\n",
              "#sk-container-id-2 div.sk-parallel-item::after {\n",
              "  content: \"\";\n",
              "  width: 100%;\n",
              "  border-bottom: 2px solid var(--sklearn-color-text-on-default-background);\n",
              "  flex-grow: 1;\n",
              "}\n",
              "\n",
              "#sk-container-id-2 div.sk-parallel {\n",
              "  display: flex;\n",
              "  align-items: stretch;\n",
              "  justify-content: center;\n",
              "  background-color: var(--sklearn-color-background);\n",
              "  position: relative;\n",
              "}\n",
              "\n",
              "#sk-container-id-2 div.sk-parallel-item {\n",
              "  display: flex;\n",
              "  flex-direction: column;\n",
              "}\n",
              "\n",
              "#sk-container-id-2 div.sk-parallel-item:first-child::after {\n",
              "  align-self: flex-end;\n",
              "  width: 50%;\n",
              "}\n",
              "\n",
              "#sk-container-id-2 div.sk-parallel-item:last-child::after {\n",
              "  align-self: flex-start;\n",
              "  width: 50%;\n",
              "}\n",
              "\n",
              "#sk-container-id-2 div.sk-parallel-item:only-child::after {\n",
              "  width: 0;\n",
              "}\n",
              "\n",
              "/* Serial-specific style estimator block */\n",
              "\n",
              "#sk-container-id-2 div.sk-serial {\n",
              "  display: flex;\n",
              "  flex-direction: column;\n",
              "  align-items: center;\n",
              "  background-color: var(--sklearn-color-background);\n",
              "  padding-right: 1em;\n",
              "  padding-left: 1em;\n",
              "}\n",
              "\n",
              "\n",
              "/* Toggleable style: style used for estimator/Pipeline/ColumnTransformer box that is\n",
              "clickable and can be expanded/collapsed.\n",
              "- Pipeline and ColumnTransformer use this feature and define the default style\n",
              "- Estimators will overwrite some part of the style using the `sk-estimator` class\n",
              "*/\n",
              "\n",
              "/* Pipeline and ColumnTransformer style (default) */\n",
              "\n",
              "#sk-container-id-2 div.sk-toggleable {\n",
              "  /* Default theme specific background. It is overwritten whether we have a\n",
              "  specific estimator or a Pipeline/ColumnTransformer */\n",
              "  background-color: var(--sklearn-color-background);\n",
              "}\n",
              "\n",
              "/* Toggleable label */\n",
              "#sk-container-id-2 label.sk-toggleable__label {\n",
              "  cursor: pointer;\n",
              "  display: flex;\n",
              "  width: 100%;\n",
              "  margin-bottom: 0;\n",
              "  padding: 0.5em;\n",
              "  box-sizing: border-box;\n",
              "  text-align: center;\n",
              "  align-items: start;\n",
              "  justify-content: space-between;\n",
              "  gap: 0.5em;\n",
              "}\n",
              "\n",
              "#sk-container-id-2 label.sk-toggleable__label .caption {\n",
              "  font-size: 0.6rem;\n",
              "  font-weight: lighter;\n",
              "  color: var(--sklearn-color-text-muted);\n",
              "}\n",
              "\n",
              "#sk-container-id-2 label.sk-toggleable__label-arrow:before {\n",
              "  /* Arrow on the left of the label */\n",
              "  content: \"▸\";\n",
              "  float: left;\n",
              "  margin-right: 0.25em;\n",
              "  color: var(--sklearn-color-icon);\n",
              "}\n",
              "\n",
              "#sk-container-id-2 label.sk-toggleable__label-arrow:hover:before {\n",
              "  color: var(--sklearn-color-text);\n",
              "}\n",
              "\n",
              "/* Toggleable content - dropdown */\n",
              "\n",
              "#sk-container-id-2 div.sk-toggleable__content {\n",
              "  max-height: 0;\n",
              "  max-width: 0;\n",
              "  overflow: hidden;\n",
              "  text-align: left;\n",
              "  /* unfitted */\n",
              "  background-color: var(--sklearn-color-unfitted-level-0);\n",
              "}\n",
              "\n",
              "#sk-container-id-2 div.sk-toggleable__content.fitted {\n",
              "  /* fitted */\n",
              "  background-color: var(--sklearn-color-fitted-level-0);\n",
              "}\n",
              "\n",
              "#sk-container-id-2 div.sk-toggleable__content pre {\n",
              "  margin: 0.2em;\n",
              "  border-radius: 0.25em;\n",
              "  color: var(--sklearn-color-text);\n",
              "  /* unfitted */\n",
              "  background-color: var(--sklearn-color-unfitted-level-0);\n",
              "}\n",
              "\n",
              "#sk-container-id-2 div.sk-toggleable__content.fitted pre {\n",
              "  /* unfitted */\n",
              "  background-color: var(--sklearn-color-fitted-level-0);\n",
              "}\n",
              "\n",
              "#sk-container-id-2 input.sk-toggleable__control:checked~div.sk-toggleable__content {\n",
              "  /* Expand drop-down */\n",
              "  max-height: 200px;\n",
              "  max-width: 100%;\n",
              "  overflow: auto;\n",
              "}\n",
              "\n",
              "#sk-container-id-2 input.sk-toggleable__control:checked~label.sk-toggleable__label-arrow:before {\n",
              "  content: \"▾\";\n",
              "}\n",
              "\n",
              "/* Pipeline/ColumnTransformer-specific style */\n",
              "\n",
              "#sk-container-id-2 div.sk-label input.sk-toggleable__control:checked~label.sk-toggleable__label {\n",
              "  color: var(--sklearn-color-text);\n",
              "  background-color: var(--sklearn-color-unfitted-level-2);\n",
              "}\n",
              "\n",
              "#sk-container-id-2 div.sk-label.fitted input.sk-toggleable__control:checked~label.sk-toggleable__label {\n",
              "  background-color: var(--sklearn-color-fitted-level-2);\n",
              "}\n",
              "\n",
              "/* Estimator-specific style */\n",
              "\n",
              "/* Colorize estimator box */\n",
              "#sk-container-id-2 div.sk-estimator input.sk-toggleable__control:checked~label.sk-toggleable__label {\n",
              "  /* unfitted */\n",
              "  background-color: var(--sklearn-color-unfitted-level-2);\n",
              "}\n",
              "\n",
              "#sk-container-id-2 div.sk-estimator.fitted input.sk-toggleable__control:checked~label.sk-toggleable__label {\n",
              "  /* fitted */\n",
              "  background-color: var(--sklearn-color-fitted-level-2);\n",
              "}\n",
              "\n",
              "#sk-container-id-2 div.sk-label label.sk-toggleable__label,\n",
              "#sk-container-id-2 div.sk-label label {\n",
              "  /* The background is the default theme color */\n",
              "  color: var(--sklearn-color-text-on-default-background);\n",
              "}\n",
              "\n",
              "/* On hover, darken the color of the background */\n",
              "#sk-container-id-2 div.sk-label:hover label.sk-toggleable__label {\n",
              "  color: var(--sklearn-color-text);\n",
              "  background-color: var(--sklearn-color-unfitted-level-2);\n",
              "}\n",
              "\n",
              "/* Label box, darken color on hover, fitted */\n",
              "#sk-container-id-2 div.sk-label.fitted:hover label.sk-toggleable__label.fitted {\n",
              "  color: var(--sklearn-color-text);\n",
              "  background-color: var(--sklearn-color-fitted-level-2);\n",
              "}\n",
              "\n",
              "/* Estimator label */\n",
              "\n",
              "#sk-container-id-2 div.sk-label label {\n",
              "  font-family: monospace;\n",
              "  font-weight: bold;\n",
              "  display: inline-block;\n",
              "  line-height: 1.2em;\n",
              "}\n",
              "\n",
              "#sk-container-id-2 div.sk-label-container {\n",
              "  text-align: center;\n",
              "}\n",
              "\n",
              "/* Estimator-specific */\n",
              "#sk-container-id-2 div.sk-estimator {\n",
              "  font-family: monospace;\n",
              "  border: 1px dotted var(--sklearn-color-border-box);\n",
              "  border-radius: 0.25em;\n",
              "  box-sizing: border-box;\n",
              "  margin-bottom: 0.5em;\n",
              "  /* unfitted */\n",
              "  background-color: var(--sklearn-color-unfitted-level-0);\n",
              "}\n",
              "\n",
              "#sk-container-id-2 div.sk-estimator.fitted {\n",
              "  /* fitted */\n",
              "  background-color: var(--sklearn-color-fitted-level-0);\n",
              "}\n",
              "\n",
              "/* on hover */\n",
              "#sk-container-id-2 div.sk-estimator:hover {\n",
              "  /* unfitted */\n",
              "  background-color: var(--sklearn-color-unfitted-level-2);\n",
              "}\n",
              "\n",
              "#sk-container-id-2 div.sk-estimator.fitted:hover {\n",
              "  /* fitted */\n",
              "  background-color: var(--sklearn-color-fitted-level-2);\n",
              "}\n",
              "\n",
              "/* Specification for estimator info (e.g. \"i\" and \"?\") */\n",
              "\n",
              "/* Common style for \"i\" and \"?\" */\n",
              "\n",
              ".sk-estimator-doc-link,\n",
              "a:link.sk-estimator-doc-link,\n",
              "a:visited.sk-estimator-doc-link {\n",
              "  float: right;\n",
              "  font-size: smaller;\n",
              "  line-height: 1em;\n",
              "  font-family: monospace;\n",
              "  background-color: var(--sklearn-color-background);\n",
              "  border-radius: 1em;\n",
              "  height: 1em;\n",
              "  width: 1em;\n",
              "  text-decoration: none !important;\n",
              "  margin-left: 0.5em;\n",
              "  text-align: center;\n",
              "  /* unfitted */\n",
              "  border: var(--sklearn-color-unfitted-level-1) 1pt solid;\n",
              "  color: var(--sklearn-color-unfitted-level-1);\n",
              "}\n",
              "\n",
              ".sk-estimator-doc-link.fitted,\n",
              "a:link.sk-estimator-doc-link.fitted,\n",
              "a:visited.sk-estimator-doc-link.fitted {\n",
              "  /* fitted */\n",
              "  border: var(--sklearn-color-fitted-level-1) 1pt solid;\n",
              "  color: var(--sklearn-color-fitted-level-1);\n",
              "}\n",
              "\n",
              "/* On hover */\n",
              "div.sk-estimator:hover .sk-estimator-doc-link:hover,\n",
              ".sk-estimator-doc-link:hover,\n",
              "div.sk-label-container:hover .sk-estimator-doc-link:hover,\n",
              ".sk-estimator-doc-link:hover {\n",
              "  /* unfitted */\n",
              "  background-color: var(--sklearn-color-unfitted-level-3);\n",
              "  color: var(--sklearn-color-background);\n",
              "  text-decoration: none;\n",
              "}\n",
              "\n",
              "div.sk-estimator.fitted:hover .sk-estimator-doc-link.fitted:hover,\n",
              ".sk-estimator-doc-link.fitted:hover,\n",
              "div.sk-label-container:hover .sk-estimator-doc-link.fitted:hover,\n",
              ".sk-estimator-doc-link.fitted:hover {\n",
              "  /* fitted */\n",
              "  background-color: var(--sklearn-color-fitted-level-3);\n",
              "  color: var(--sklearn-color-background);\n",
              "  text-decoration: none;\n",
              "}\n",
              "\n",
              "/* Span, style for the box shown on hovering the info icon */\n",
              ".sk-estimator-doc-link span {\n",
              "  display: none;\n",
              "  z-index: 9999;\n",
              "  position: relative;\n",
              "  font-weight: normal;\n",
              "  right: .2ex;\n",
              "  padding: .5ex;\n",
              "  margin: .5ex;\n",
              "  width: min-content;\n",
              "  min-width: 20ex;\n",
              "  max-width: 50ex;\n",
              "  color: var(--sklearn-color-text);\n",
              "  box-shadow: 2pt 2pt 4pt #999;\n",
              "  /* unfitted */\n",
              "  background: var(--sklearn-color-unfitted-level-0);\n",
              "  border: .5pt solid var(--sklearn-color-unfitted-level-3);\n",
              "}\n",
              "\n",
              ".sk-estimator-doc-link.fitted span {\n",
              "  /* fitted */\n",
              "  background: var(--sklearn-color-fitted-level-0);\n",
              "  border: var(--sklearn-color-fitted-level-3);\n",
              "}\n",
              "\n",
              ".sk-estimator-doc-link:hover span {\n",
              "  display: block;\n",
              "}\n",
              "\n",
              "/* \"?\"-specific style due to the `<a>` HTML tag */\n",
              "\n",
              "#sk-container-id-2 a.estimator_doc_link {\n",
              "  float: right;\n",
              "  font-size: 1rem;\n",
              "  line-height: 1em;\n",
              "  font-family: monospace;\n",
              "  background-color: var(--sklearn-color-background);\n",
              "  border-radius: 1rem;\n",
              "  height: 1rem;\n",
              "  width: 1rem;\n",
              "  text-decoration: none;\n",
              "  /* unfitted */\n",
              "  color: var(--sklearn-color-unfitted-level-1);\n",
              "  border: var(--sklearn-color-unfitted-level-1) 1pt solid;\n",
              "}\n",
              "\n",
              "#sk-container-id-2 a.estimator_doc_link.fitted {\n",
              "  /* fitted */\n",
              "  border: var(--sklearn-color-fitted-level-1) 1pt solid;\n",
              "  color: var(--sklearn-color-fitted-level-1);\n",
              "}\n",
              "\n",
              "/* On hover */\n",
              "#sk-container-id-2 a.estimator_doc_link:hover {\n",
              "  /* unfitted */\n",
              "  background-color: var(--sklearn-color-unfitted-level-3);\n",
              "  color: var(--sklearn-color-background);\n",
              "  text-decoration: none;\n",
              "}\n",
              "\n",
              "#sk-container-id-2 a.estimator_doc_link.fitted:hover {\n",
              "  /* fitted */\n",
              "  background-color: var(--sklearn-color-fitted-level-3);\n",
              "}\n",
              "</style><div id=\"sk-container-id-2\" class=\"sk-top-container\"><div class=\"sk-text-repr-fallback\"><pre>TruncatedSVD(n_components=300)</pre><b>In a Jupyter environment, please rerun this cell to show the HTML representation or trust the notebook. <br />On GitHub, the HTML representation is unable to render, please try loading this page with nbviewer.org.</b></div><div class=\"sk-container\" hidden><div class=\"sk-item\"><div class=\"sk-estimator fitted sk-toggleable\"><input class=\"sk-toggleable__control sk-hidden--visually\" id=\"sk-estimator-id-2\" type=\"checkbox\" checked><label for=\"sk-estimator-id-2\" class=\"sk-toggleable__label fitted sk-toggleable__label-arrow\"><div><div>TruncatedSVD</div></div><div><a class=\"sk-estimator-doc-link fitted\" rel=\"noreferrer\" target=\"_blank\" href=\"https://scikit-learn.org/1.6/modules/generated/sklearn.decomposition.TruncatedSVD.html\">?<span>Documentation for TruncatedSVD</span></a><span class=\"sk-estimator-doc-link fitted\">i<span>Fitted</span></span></div></label><div class=\"sk-toggleable__content fitted\"><pre>TruncatedSVD(n_components=300)</pre></div> </div></div></div></div>"
            ]
          },
          "metadata": {},
          "execution_count": 41
        }
      ]
    },
    {
      "cell_type": "code",
      "source": [
        "from keras.models import load_model\n",
        "\n",
        "model = load_model(\"sentiment_model.keras\")\n",
        "model.summary()\n"
      ],
      "metadata": {
        "colab": {
          "base_uri": "https://localhost:8080/",
          "height": 323
        },
        "id": "6FW1lfzCZoFK",
        "outputId": "5892cc0f-044b-4a50-d4b2-015f8de5ebc5"
      },
      "execution_count": 42,
      "outputs": [
        {
          "output_type": "display_data",
          "data": {
            "text/plain": [
              "\u001b[1mModel: \"sequential\"\u001b[0m\n"
            ],
            "text/html": [
              "<pre style=\"white-space:pre;overflow-x:auto;line-height:normal;font-family:Menlo,'DejaVu Sans Mono',consolas,'Courier New',monospace\"><span style=\"font-weight: bold\">Model: \"sequential\"</span>\n",
              "</pre>\n"
            ]
          },
          "metadata": {}
        },
        {
          "output_type": "display_data",
          "data": {
            "text/plain": [
              "┏━━━━━━━━━━━━━━━━━━━━━━━━━━━━━━━━━┳━━━━━━━━━━━━━━━━━━━━━━━━┳━━━━━━━━━━━━━━━┓\n",
              "┃\u001b[1m \u001b[0m\u001b[1mLayer (type)                   \u001b[0m\u001b[1m \u001b[0m┃\u001b[1m \u001b[0m\u001b[1mOutput Shape          \u001b[0m\u001b[1m \u001b[0m┃\u001b[1m \u001b[0m\u001b[1m      Param #\u001b[0m\u001b[1m \u001b[0m┃\n",
              "┡━━━━━━━━━━━━━━━━━━━━━━━━━━━━━━━━━╇━━━━━━━━━━━━━━━━━━━━━━━━╇━━━━━━━━━━━━━━━┩\n",
              "│ dense (\u001b[38;5;33mDense\u001b[0m)                   │ (\u001b[38;5;45mNone\u001b[0m, \u001b[38;5;34m128\u001b[0m)            │        \u001b[38;5;34m38,528\u001b[0m │\n",
              "├─────────────────────────────────┼────────────────────────┼───────────────┤\n",
              "│ dropout (\u001b[38;5;33mDropout\u001b[0m)               │ (\u001b[38;5;45mNone\u001b[0m, \u001b[38;5;34m128\u001b[0m)            │             \u001b[38;5;34m0\u001b[0m │\n",
              "├─────────────────────────────────┼────────────────────────┼───────────────┤\n",
              "│ dense_1 (\u001b[38;5;33mDense\u001b[0m)                 │ (\u001b[38;5;45mNone\u001b[0m, \u001b[38;5;34m64\u001b[0m)             │         \u001b[38;5;34m8,256\u001b[0m │\n",
              "├─────────────────────────────────┼────────────────────────┼───────────────┤\n",
              "│ dropout_1 (\u001b[38;5;33mDropout\u001b[0m)             │ (\u001b[38;5;45mNone\u001b[0m, \u001b[38;5;34m64\u001b[0m)             │             \u001b[38;5;34m0\u001b[0m │\n",
              "├─────────────────────────────────┼────────────────────────┼───────────────┤\n",
              "│ dense_2 (\u001b[38;5;33mDense\u001b[0m)                 │ (\u001b[38;5;45mNone\u001b[0m, \u001b[38;5;34m1\u001b[0m)              │            \u001b[38;5;34m65\u001b[0m │\n",
              "└─────────────────────────────────┴────────────────────────┴───────────────┘\n"
            ],
            "text/html": [
              "<pre style=\"white-space:pre;overflow-x:auto;line-height:normal;font-family:Menlo,'DejaVu Sans Mono',consolas,'Courier New',monospace\">┏━━━━━━━━━━━━━━━━━━━━━━━━━━━━━━━━━┳━━━━━━━━━━━━━━━━━━━━━━━━┳━━━━━━━━━━━━━━━┓\n",
              "┃<span style=\"font-weight: bold\"> Layer (type)                    </span>┃<span style=\"font-weight: bold\"> Output Shape           </span>┃<span style=\"font-weight: bold\">       Param # </span>┃\n",
              "┡━━━━━━━━━━━━━━━━━━━━━━━━━━━━━━━━━╇━━━━━━━━━━━━━━━━━━━━━━━━╇━━━━━━━━━━━━━━━┩\n",
              "│ dense (<span style=\"color: #0087ff; text-decoration-color: #0087ff\">Dense</span>)                   │ (<span style=\"color: #00d7ff; text-decoration-color: #00d7ff\">None</span>, <span style=\"color: #00af00; text-decoration-color: #00af00\">128</span>)            │        <span style=\"color: #00af00; text-decoration-color: #00af00\">38,528</span> │\n",
              "├─────────────────────────────────┼────────────────────────┼───────────────┤\n",
              "│ dropout (<span style=\"color: #0087ff; text-decoration-color: #0087ff\">Dropout</span>)               │ (<span style=\"color: #00d7ff; text-decoration-color: #00d7ff\">None</span>, <span style=\"color: #00af00; text-decoration-color: #00af00\">128</span>)            │             <span style=\"color: #00af00; text-decoration-color: #00af00\">0</span> │\n",
              "├─────────────────────────────────┼────────────────────────┼───────────────┤\n",
              "│ dense_1 (<span style=\"color: #0087ff; text-decoration-color: #0087ff\">Dense</span>)                 │ (<span style=\"color: #00d7ff; text-decoration-color: #00d7ff\">None</span>, <span style=\"color: #00af00; text-decoration-color: #00af00\">64</span>)             │         <span style=\"color: #00af00; text-decoration-color: #00af00\">8,256</span> │\n",
              "├─────────────────────────────────┼────────────────────────┼───────────────┤\n",
              "│ dropout_1 (<span style=\"color: #0087ff; text-decoration-color: #0087ff\">Dropout</span>)             │ (<span style=\"color: #00d7ff; text-decoration-color: #00d7ff\">None</span>, <span style=\"color: #00af00; text-decoration-color: #00af00\">64</span>)             │             <span style=\"color: #00af00; text-decoration-color: #00af00\">0</span> │\n",
              "├─────────────────────────────────┼────────────────────────┼───────────────┤\n",
              "│ dense_2 (<span style=\"color: #0087ff; text-decoration-color: #0087ff\">Dense</span>)                 │ (<span style=\"color: #00d7ff; text-decoration-color: #00d7ff\">None</span>, <span style=\"color: #00af00; text-decoration-color: #00af00\">1</span>)              │            <span style=\"color: #00af00; text-decoration-color: #00af00\">65</span> │\n",
              "└─────────────────────────────────┴────────────────────────┴───────────────┘\n",
              "</pre>\n"
            ]
          },
          "metadata": {}
        },
        {
          "output_type": "display_data",
          "data": {
            "text/plain": [
              "\u001b[1m Total params: \u001b[0m\u001b[38;5;34m140,549\u001b[0m (549.02 KB)\n"
            ],
            "text/html": [
              "<pre style=\"white-space:pre;overflow-x:auto;line-height:normal;font-family:Menlo,'DejaVu Sans Mono',consolas,'Courier New',monospace\"><span style=\"font-weight: bold\"> Total params: </span><span style=\"color: #00af00; text-decoration-color: #00af00\">140,549</span> (549.02 KB)\n",
              "</pre>\n"
            ]
          },
          "metadata": {}
        },
        {
          "output_type": "display_data",
          "data": {
            "text/plain": [
              "\u001b[1m Trainable params: \u001b[0m\u001b[38;5;34m46,849\u001b[0m (183.00 KB)\n"
            ],
            "text/html": [
              "<pre style=\"white-space:pre;overflow-x:auto;line-height:normal;font-family:Menlo,'DejaVu Sans Mono',consolas,'Courier New',monospace\"><span style=\"font-weight: bold\"> Trainable params: </span><span style=\"color: #00af00; text-decoration-color: #00af00\">46,849</span> (183.00 KB)\n",
              "</pre>\n"
            ]
          },
          "metadata": {}
        },
        {
          "output_type": "display_data",
          "data": {
            "text/plain": [
              "\u001b[1m Non-trainable params: \u001b[0m\u001b[38;5;34m0\u001b[0m (0.00 B)\n"
            ],
            "text/html": [
              "<pre style=\"white-space:pre;overflow-x:auto;line-height:normal;font-family:Menlo,'DejaVu Sans Mono',consolas,'Courier New',monospace\"><span style=\"font-weight: bold\"> Non-trainable params: </span><span style=\"color: #00af00; text-decoration-color: #00af00\">0</span> (0.00 B)\n",
              "</pre>\n"
            ]
          },
          "metadata": {}
        },
        {
          "output_type": "display_data",
          "data": {
            "text/plain": [
              "\u001b[1m Optimizer params: \u001b[0m\u001b[38;5;34m93,700\u001b[0m (366.02 KB)\n"
            ],
            "text/html": [
              "<pre style=\"white-space:pre;overflow-x:auto;line-height:normal;font-family:Menlo,'DejaVu Sans Mono',consolas,'Courier New',monospace\"><span style=\"font-weight: bold\"> Optimizer params: </span><span style=\"color: #00af00; text-decoration-color: #00af00\">93,700</span> (366.02 KB)\n",
              "</pre>\n"
            ]
          },
          "metadata": {}
        }
      ]
    },
    {
      "cell_type": "markdown",
      "source": [
        "# Out of sample prediction\n"
      ],
      "metadata": {
        "id": "VlvW-njkZzt0"
      }
    },
    {
      "cell_type": "code",
      "source": [
        "def analyse_sentiment(model, tfidf, svd):\n",
        "  text = input(\"Please write the review : \")\n",
        "  text = preprocess_text(text)\n",
        "  text_pre = tfidf.transform([text]).toarray()\n",
        "  text_pre_red = svd.transform(text_pre)\n",
        "  yprob = model.predict(text_pre_red)\n",
        "  if yprob >= 0.5:\n",
        "    print(\"Positive sentiment\")\n",
        "    ypred = 1\n",
        "  else:\n",
        "    print(\"Negative sentiment\")\n",
        "    ypred = 0\n",
        "  return ypred, yprob"
      ],
      "metadata": {
        "id": "h-MHZlGpZtON"
      },
      "execution_count": 43,
      "outputs": []
    },
    {
      "cell_type": "code",
      "source": [
        "analyse_sentiment(model, tfidf, svd)\n"
      ],
      "metadata": {
        "id": "IgIwvIHAaWy5",
        "colab": {
          "base_uri": "https://localhost:8080/"
        },
        "outputId": "0b857fdd-9958-4586-ec09-f737bd39d579"
      },
      "execution_count": 46,
      "outputs": [
        {
          "output_type": "stream",
          "name": "stdout",
          "text": [
            "Please write the review : Amazing Restaurant! really liked the service..\n",
            "\u001b[1m1/1\u001b[0m \u001b[32m━━━━━━━━━━━━━━━━━━━━\u001b[0m\u001b[37m\u001b[0m \u001b[1m0s\u001b[0m 39ms/step\n",
            "Positive sentiment\n"
          ]
        },
        {
          "output_type": "execute_result",
          "data": {
            "text/plain": [
              "(1, array([[0.9775474]], dtype=float32))"
            ]
          },
          "metadata": {},
          "execution_count": 46
        }
      ]
    },
    {
      "cell_type": "code",
      "source": [
        "analyse_sentiment(model, tfidf, svd)\n"
      ],
      "metadata": {
        "colab": {
          "base_uri": "https://localhost:8080/"
        },
        "id": "ZeUxm533o8ys",
        "outputId": "368c9410-b471-43f7-fefa-b1a6aa6402ca"
      },
      "execution_count": 47,
      "outputs": [
        {
          "output_type": "stream",
          "name": "stdout",
          "text": [
            "Please write the review : Didnt like taste , the service was too slow\n",
            "\u001b[1m1/1\u001b[0m \u001b[32m━━━━━━━━━━━━━━━━━━━━\u001b[0m\u001b[37m\u001b[0m \u001b[1m0s\u001b[0m 37ms/step\n",
            "Negative sentiment\n"
          ]
        },
        {
          "output_type": "execute_result",
          "data": {
            "text/plain": [
              "(0, array([[0.04399063]], dtype=float32))"
            ]
          },
          "metadata": {},
          "execution_count": 47
        }
      ]
    },
    {
      "cell_type": "code",
      "source": [
        "analyse_sentiment(model, tfidf, svd)\n"
      ],
      "metadata": {
        "colab": {
          "base_uri": "https://localhost:8080/"
        },
        "id": "za1bNKddpH8_",
        "outputId": "0ea4b538-cc3f-4343-d73d-c883a344477a"
      },
      "execution_count": 48,
      "outputs": [
        {
          "output_type": "stream",
          "name": "stdout",
          "text": [
            "Please write the review : Wow!... This book i read was really good\n",
            "\u001b[1m1/1\u001b[0m \u001b[32m━━━━━━━━━━━━━━━━━━━━\u001b[0m\u001b[37m\u001b[0m \u001b[1m0s\u001b[0m 39ms/step\n",
            "Positive sentiment\n"
          ]
        },
        {
          "output_type": "execute_result",
          "data": {
            "text/plain": [
              "(1, array([[0.90104586]], dtype=float32))"
            ]
          },
          "metadata": {},
          "execution_count": 48
        }
      ]
    },
    {
      "cell_type": "code",
      "source": [
        "analyse_sentiment(model, tfidf, svd)\n"
      ],
      "metadata": {
        "colab": {
          "base_uri": "https://localhost:8080/"
        },
        "id": "scI_DAoWpSlT",
        "outputId": "c4fb40cb-d6f0-49c4-94bd-95cadeac771b"
      },
      "execution_count": 49,
      "outputs": [
        {
          "output_type": "stream",
          "name": "stdout",
          "text": [
            "Please write the review : The service was ok, Average restaurant\n",
            "\u001b[1m1/1\u001b[0m \u001b[32m━━━━━━━━━━━━━━━━━━━━\u001b[0m\u001b[37m\u001b[0m \u001b[1m0s\u001b[0m 40ms/step\n",
            "Positive sentiment\n"
          ]
        },
        {
          "output_type": "execute_result",
          "data": {
            "text/plain": [
              "(1, array([[0.6397127]], dtype=float32))"
            ]
          },
          "metadata": {},
          "execution_count": 49
        }
      ]
    },
    {
      "cell_type": "code",
      "source": [],
      "metadata": {
        "id": "j6hV2KVGpeeI"
      },
      "execution_count": 49,
      "outputs": []
    }
  ]
}